{
 "cells": [
  {
   "cell_type": "code",
   "execution_count": 1,
   "metadata": {},
   "outputs": [],
   "source": [
    "import pandas as pd\n",
    "import numpy as np\n",
    "import matplotlib.pyplot as plt\n",
    "import seaborn as sns\n",
    "%matplotlib inline"
   ]
  },
  {
   "cell_type": "code",
   "execution_count": 2,
   "metadata": {},
   "outputs": [],
   "source": [
    "df=pd.read_csv(\"C:\\\\Users\\\\sasidharreddy\\\\Downloads\\\\sales_data.csv\")"
   ]
  },
  {
   "cell_type": "code",
   "execution_count": 3,
   "metadata": {},
   "outputs": [
    {
     "data": {
      "text/html": [
       "<div>\n",
       "<style scoped>\n",
       "    .dataframe tbody tr th:only-of-type {\n",
       "        vertical-align: middle;\n",
       "    }\n",
       "\n",
       "    .dataframe tbody tr th {\n",
       "        vertical-align: top;\n",
       "    }\n",
       "\n",
       "    .dataframe thead th {\n",
       "        text-align: right;\n",
       "    }\n",
       "</style>\n",
       "<table border=\"1\" class=\"dataframe\">\n",
       "  <thead>\n",
       "    <tr style=\"text-align: right;\">\n",
       "      <th></th>\n",
       "      <th>CustomerID</th>\n",
       "      <th>TOTAL_ORDERS</th>\n",
       "      <th>REVENUE</th>\n",
       "      <th>AVERAGE_ORDER_VALUE</th>\n",
       "      <th>CARRIAGE_REVENUE</th>\n",
       "      <th>AVERAGESHIPPING</th>\n",
       "      <th>FIRST_ORDER_DATE</th>\n",
       "      <th>LATEST_ORDER_DATE</th>\n",
       "      <th>AVGDAYSBETWEENORDERS</th>\n",
       "      <th>DAYSSINCELASTORDER</th>\n",
       "      <th>...</th>\n",
       "      <th>WEEK3_DAY16_DAY23_REVENUE</th>\n",
       "      <th>WEEK4_DAY24_DAY31_REVENUE</th>\n",
       "      <th>TIME_0000_0600_ORDERS</th>\n",
       "      <th>TIME_0601_1200_ORDERS</th>\n",
       "      <th>TIME_1200_1800_ORDERS</th>\n",
       "      <th>TIME_1801_2359_ORDERS</th>\n",
       "      <th>TIME_0000_0600_REVENUE</th>\n",
       "      <th>TIME_0601_1200_REVENUE</th>\n",
       "      <th>TIME_1200_1800_REVENUE</th>\n",
       "      <th>TIME_1801_2359_REVENUE</th>\n",
       "    </tr>\n",
       "  </thead>\n",
       "  <tbody>\n",
       "    <tr>\n",
       "      <th>0</th>\n",
       "      <td>22</td>\n",
       "      <td>124</td>\n",
       "      <td>11986.54</td>\n",
       "      <td>96.67</td>\n",
       "      <td>529.59</td>\n",
       "      <td>4.27</td>\n",
       "      <td>30-Dec-16</td>\n",
       "      <td>24-Oct-21</td>\n",
       "      <td>14.19</td>\n",
       "      <td>1</td>\n",
       "      <td>...</td>\n",
       "      <td>2592.18</td>\n",
       "      <td>2409.71</td>\n",
       "      <td>12</td>\n",
       "      <td>61</td>\n",
       "      <td>37</td>\n",
       "      <td>14</td>\n",
       "      <td>1067.92</td>\n",
       "      <td>5674.65</td>\n",
       "      <td>3916.53</td>\n",
       "      <td>1327.44</td>\n",
       "    </tr>\n",
       "    <tr>\n",
       "      <th>1</th>\n",
       "      <td>29</td>\n",
       "      <td>82</td>\n",
       "      <td>11025.96</td>\n",
       "      <td>134.46</td>\n",
       "      <td>97.92</td>\n",
       "      <td>1.19</td>\n",
       "      <td>31-Mar-18</td>\n",
       "      <td>24-Oct-21</td>\n",
       "      <td>15.89</td>\n",
       "      <td>1</td>\n",
       "      <td>...</td>\n",
       "      <td>2807.66</td>\n",
       "      <td>4106.19</td>\n",
       "      <td>1</td>\n",
       "      <td>13</td>\n",
       "      <td>24</td>\n",
       "      <td>44</td>\n",
       "      <td>30.25</td>\n",
       "      <td>3143.69</td>\n",
       "      <td>2205.47</td>\n",
       "      <td>5646.55</td>\n",
       "    </tr>\n",
       "    <tr>\n",
       "      <th>2</th>\n",
       "      <td>83</td>\n",
       "      <td>43</td>\n",
       "      <td>7259.69</td>\n",
       "      <td>168.83</td>\n",
       "      <td>171.69</td>\n",
       "      <td>3.99</td>\n",
       "      <td>30-Nov-17</td>\n",
       "      <td>24-Oct-21</td>\n",
       "      <td>33.12</td>\n",
       "      <td>1</td>\n",
       "      <td>...</td>\n",
       "      <td>713.94</td>\n",
       "      <td>2861.90</td>\n",
       "      <td>0</td>\n",
       "      <td>6</td>\n",
       "      <td>12</td>\n",
       "      <td>25</td>\n",
       "      <td>0.00</td>\n",
       "      <td>707.98</td>\n",
       "      <td>2560.91</td>\n",
       "      <td>3990.80</td>\n",
       "    </tr>\n",
       "    <tr>\n",
       "      <th>3</th>\n",
       "      <td>95</td>\n",
       "      <td>44</td>\n",
       "      <td>6992.27</td>\n",
       "      <td>158.92</td>\n",
       "      <td>92.82</td>\n",
       "      <td>2.11</td>\n",
       "      <td>9-Apr-19</td>\n",
       "      <td>24-Oct-21</td>\n",
       "      <td>21.11</td>\n",
       "      <td>1</td>\n",
       "      <td>...</td>\n",
       "      <td>997.02</td>\n",
       "      <td>1260.08</td>\n",
       "      <td>0</td>\n",
       "      <td>10</td>\n",
       "      <td>13</td>\n",
       "      <td>21</td>\n",
       "      <td>0.00</td>\n",
       "      <td>1908.99</td>\n",
       "      <td>2025.05</td>\n",
       "      <td>3058.23</td>\n",
       "    </tr>\n",
       "    <tr>\n",
       "      <th>4</th>\n",
       "      <td>124</td>\n",
       "      <td>55</td>\n",
       "      <td>6263.44</td>\n",
       "      <td>113.88</td>\n",
       "      <td>179.04</td>\n",
       "      <td>3.26</td>\n",
       "      <td>23-Oct-20</td>\n",
       "      <td>24-Oct-21</td>\n",
       "      <td>6.65</td>\n",
       "      <td>1</td>\n",
       "      <td>...</td>\n",
       "      <td>2725.66</td>\n",
       "      <td>768.46</td>\n",
       "      <td>6</td>\n",
       "      <td>9</td>\n",
       "      <td>27</td>\n",
       "      <td>13</td>\n",
       "      <td>501.34</td>\n",
       "      <td>1197.83</td>\n",
       "      <td>3004.77</td>\n",
       "      <td>1559.50</td>\n",
       "    </tr>\n",
       "    <tr>\n",
       "      <th>5</th>\n",
       "      <td>153</td>\n",
       "      <td>49</td>\n",
       "      <td>5841.24</td>\n",
       "      <td>119.21</td>\n",
       "      <td>96.84</td>\n",
       "      <td>1.98</td>\n",
       "      <td>26-Jul-15</td>\n",
       "      <td>24-Oct-21</td>\n",
       "      <td>46.57</td>\n",
       "      <td>1</td>\n",
       "      <td>...</td>\n",
       "      <td>1595.97</td>\n",
       "      <td>1447.96</td>\n",
       "      <td>0</td>\n",
       "      <td>20</td>\n",
       "      <td>23</td>\n",
       "      <td>6</td>\n",
       "      <td>0.00</td>\n",
       "      <td>2482.33</td>\n",
       "      <td>2759.43</td>\n",
       "      <td>599.48</td>\n",
       "    </tr>\n",
       "    <tr>\n",
       "      <th>6</th>\n",
       "      <td>187</td>\n",
       "      <td>43</td>\n",
       "      <td>5470.27</td>\n",
       "      <td>127.22</td>\n",
       "      <td>128.77</td>\n",
       "      <td>2.99</td>\n",
       "      <td>14-Jan-19</td>\n",
       "      <td>24-Oct-21</td>\n",
       "      <td>23.58</td>\n",
       "      <td>1</td>\n",
       "      <td>...</td>\n",
       "      <td>2042.31</td>\n",
       "      <td>2699.47</td>\n",
       "      <td>2</td>\n",
       "      <td>0</td>\n",
       "      <td>19</td>\n",
       "      <td>22</td>\n",
       "      <td>47.00</td>\n",
       "      <td>0.00</td>\n",
       "      <td>2578.28</td>\n",
       "      <td>2844.99</td>\n",
       "    </tr>\n",
       "    <tr>\n",
       "      <th>7</th>\n",
       "      <td>219</td>\n",
       "      <td>54</td>\n",
       "      <td>5200.53</td>\n",
       "      <td>96.31</td>\n",
       "      <td>237.53</td>\n",
       "      <td>4.40</td>\n",
       "      <td>19-Nov-19</td>\n",
       "      <td>24-Oct-21</td>\n",
       "      <td>13.06</td>\n",
       "      <td>1</td>\n",
       "      <td>...</td>\n",
       "      <td>754.72</td>\n",
       "      <td>1339.16</td>\n",
       "      <td>2</td>\n",
       "      <td>22</td>\n",
       "      <td>24</td>\n",
       "      <td>6</td>\n",
       "      <td>273.18</td>\n",
       "      <td>2328.21</td>\n",
       "      <td>1980.99</td>\n",
       "      <td>618.15</td>\n",
       "    </tr>\n",
       "    <tr>\n",
       "      <th>8</th>\n",
       "      <td>258</td>\n",
       "      <td>19</td>\n",
       "      <td>4967.06</td>\n",
       "      <td>261.42</td>\n",
       "      <td>51.91</td>\n",
       "      <td>2.73</td>\n",
       "      <td>3-Mar-21</td>\n",
       "      <td>24-Oct-21</td>\n",
       "      <td>12.37</td>\n",
       "      <td>1</td>\n",
       "      <td>...</td>\n",
       "      <td>2588.19</td>\n",
       "      <td>563.74</td>\n",
       "      <td>1</td>\n",
       "      <td>0</td>\n",
       "      <td>8</td>\n",
       "      <td>10</td>\n",
       "      <td>332.19</td>\n",
       "      <td>0.00</td>\n",
       "      <td>1673.10</td>\n",
       "      <td>2961.77</td>\n",
       "    </tr>\n",
       "    <tr>\n",
       "      <th>9</th>\n",
       "      <td>308</td>\n",
       "      <td>21</td>\n",
       "      <td>4726.38</td>\n",
       "      <td>225.07</td>\n",
       "      <td>63.88</td>\n",
       "      <td>3.04</td>\n",
       "      <td>6-Jan-20</td>\n",
       "      <td>24-Oct-21</td>\n",
       "      <td>31.29</td>\n",
       "      <td>1</td>\n",
       "      <td>...</td>\n",
       "      <td>1094.98</td>\n",
       "      <td>991.97</td>\n",
       "      <td>4</td>\n",
       "      <td>11</td>\n",
       "      <td>6</td>\n",
       "      <td>0</td>\n",
       "      <td>1095.98</td>\n",
       "      <td>1867.94</td>\n",
       "      <td>1762.46</td>\n",
       "      <td>0.00</td>\n",
       "    </tr>\n",
       "  </tbody>\n",
       "</table>\n",
       "<p>10 rows × 40 columns</p>\n",
       "</div>"
      ],
      "text/plain": [
       "   CustomerID  TOTAL_ORDERS   REVENUE  AVERAGE_ORDER_VALUE  CARRIAGE_REVENUE  \\\n",
       "0          22           124  11986.54                96.67            529.59   \n",
       "1          29            82  11025.96               134.46             97.92   \n",
       "2          83            43   7259.69               168.83            171.69   \n",
       "3          95            44   6992.27               158.92             92.82   \n",
       "4         124            55   6263.44               113.88            179.04   \n",
       "5         153            49   5841.24               119.21             96.84   \n",
       "6         187            43   5470.27               127.22            128.77   \n",
       "7         219            54   5200.53                96.31            237.53   \n",
       "8         258            19   4967.06               261.42             51.91   \n",
       "9         308            21   4726.38               225.07             63.88   \n",
       "\n",
       "   AVERAGESHIPPING FIRST_ORDER_DATE LATEST_ORDER_DATE  AVGDAYSBETWEENORDERS  \\\n",
       "0             4.27        30-Dec-16         24-Oct-21                 14.19   \n",
       "1             1.19        31-Mar-18         24-Oct-21                 15.89   \n",
       "2             3.99        30-Nov-17         24-Oct-21                 33.12   \n",
       "3             2.11         9-Apr-19         24-Oct-21                 21.11   \n",
       "4             3.26        23-Oct-20         24-Oct-21                  6.65   \n",
       "5             1.98        26-Jul-15         24-Oct-21                 46.57   \n",
       "6             2.99        14-Jan-19         24-Oct-21                 23.58   \n",
       "7             4.40        19-Nov-19         24-Oct-21                 13.06   \n",
       "8             2.73         3-Mar-21         24-Oct-21                 12.37   \n",
       "9             3.04         6-Jan-20         24-Oct-21                 31.29   \n",
       "\n",
       "   DAYSSINCELASTORDER  ...  WEEK3_DAY16_DAY23_REVENUE  \\\n",
       "0                   1  ...                    2592.18   \n",
       "1                   1  ...                    2807.66   \n",
       "2                   1  ...                     713.94   \n",
       "3                   1  ...                     997.02   \n",
       "4                   1  ...                    2725.66   \n",
       "5                   1  ...                    1595.97   \n",
       "6                   1  ...                    2042.31   \n",
       "7                   1  ...                     754.72   \n",
       "8                   1  ...                    2588.19   \n",
       "9                   1  ...                    1094.98   \n",
       "\n",
       "   WEEK4_DAY24_DAY31_REVENUE  TIME_0000_0600_ORDERS  TIME_0601_1200_ORDERS  \\\n",
       "0                    2409.71                     12                     61   \n",
       "1                    4106.19                      1                     13   \n",
       "2                    2861.90                      0                      6   \n",
       "3                    1260.08                      0                     10   \n",
       "4                     768.46                      6                      9   \n",
       "5                    1447.96                      0                     20   \n",
       "6                    2699.47                      2                      0   \n",
       "7                    1339.16                      2                     22   \n",
       "8                     563.74                      1                      0   \n",
       "9                     991.97                      4                     11   \n",
       "\n",
       "   TIME_1200_1800_ORDERS  TIME_1801_2359_ORDERS  TIME_0000_0600_REVENUE  \\\n",
       "0                     37                     14                 1067.92   \n",
       "1                     24                     44                   30.25   \n",
       "2                     12                     25                    0.00   \n",
       "3                     13                     21                    0.00   \n",
       "4                     27                     13                  501.34   \n",
       "5                     23                      6                    0.00   \n",
       "6                     19                     22                   47.00   \n",
       "7                     24                      6                  273.18   \n",
       "8                      8                     10                  332.19   \n",
       "9                      6                      0                 1095.98   \n",
       "\n",
       "   TIME_0601_1200_REVENUE  TIME_1200_1800_REVENUE  TIME_1801_2359_REVENUE  \n",
       "0                 5674.65                 3916.53                 1327.44  \n",
       "1                 3143.69                 2205.47                 5646.55  \n",
       "2                  707.98                 2560.91                 3990.80  \n",
       "3                 1908.99                 2025.05                 3058.23  \n",
       "4                 1197.83                 3004.77                 1559.50  \n",
       "5                 2482.33                 2759.43                  599.48  \n",
       "6                    0.00                 2578.28                 2844.99  \n",
       "7                 2328.21                 1980.99                  618.15  \n",
       "8                    0.00                 1673.10                 2961.77  \n",
       "9                 1867.94                 1762.46                    0.00  \n",
       "\n",
       "[10 rows x 40 columns]"
      ]
     },
     "execution_count": 3,
     "metadata": {},
     "output_type": "execute_result"
    }
   ],
   "source": [
    "df.head(10)"
   ]
  },
  {
   "cell_type": "code",
   "execution_count": 4,
   "metadata": {},
   "outputs": [
    {
     "data": {
      "text/plain": [
       "Index(['CustomerID', 'TOTAL_ORDERS', 'REVENUE', 'AVERAGE_ORDER_VALUE',\n",
       "       'CARRIAGE_REVENUE', 'AVERAGESHIPPING', 'FIRST_ORDER_DATE',\n",
       "       'LATEST_ORDER_DATE', 'AVGDAYSBETWEENORDERS', 'DAYSSINCELASTORDER',\n",
       "       'MONDAY_ORDERS', 'TUESDAY_ORDERS', 'WEDNESDAY_ORDERS',\n",
       "       'THURSDAY_ORDERS', 'FRIDAY_ORDERS', 'SATURDAY_ORDERS', 'SUNDAY_ORDERS',\n",
       "       'MONDAY_REVENUE', 'TUESDAY_REVENUE', 'WEDNESDAY_REVENUE',\n",
       "       'THURSDAY_REVENUE', 'FRIDAY_REVENUE', 'SATURDAY_REVENUE',\n",
       "       'SUNDAY_REVENUE', 'WEEK1_DAY01_DAY07_ORDERS',\n",
       "       'WEEK2_DAY08_DAY15_ORDERS', 'WEEK3_DAY16_DAY23_ORDERS',\n",
       "       'WEEK4_DAY24_DAY31_ORDERS', 'WEEK1_DAY01_DAY07_REVENUE',\n",
       "       'WEEK2_DAY08_DAY15_REVENUE', 'WEEK3_DAY16_DAY23_REVENUE',\n",
       "       'WEEK4_DAY24_DAY31_REVENUE', 'TIME_0000_0600_ORDERS',\n",
       "       'TIME_0601_1200_ORDERS', 'TIME_1200_1800_ORDERS',\n",
       "       'TIME_1801_2359_ORDERS', 'TIME_0000_0600_REVENUE',\n",
       "       'TIME_0601_1200_REVENUE', 'TIME_1200_1800_REVENUE',\n",
       "       'TIME_1801_2359_REVENUE'],\n",
       "      dtype='object')"
      ]
     },
     "execution_count": 4,
     "metadata": {},
     "output_type": "execute_result"
    }
   ],
   "source": [
    "df.columns"
   ]
  },
  {
   "cell_type": "code",
   "execution_count": 5,
   "metadata": {},
   "outputs": [],
   "source": [
    "import datetime"
   ]
  },
  {
   "cell_type": "code",
   "execution_count": 6,
   "metadata": {},
   "outputs": [],
   "source": [
    "l=pd.to_datetime(df['FIRST_ORDER_DATE'])\n",
    "l1=pd.to_datetime(df['LATEST_ORDER_DATE'])"
   ]
  },
  {
   "cell_type": "code",
   "execution_count": 7,
   "metadata": {},
   "outputs": [],
   "source": [
    "df['No.of.Days']=l1-l"
   ]
  },
  {
   "cell_type": "code",
   "execution_count": 8,
   "metadata": {},
   "outputs": [],
   "source": [
    "df.drop(['FIRST_ORDER_DATE','LATEST_ORDER_DATE'],axis=1, inplace=True)"
   ]
  },
  {
   "cell_type": "code",
   "execution_count": 9,
   "metadata": {},
   "outputs": [
    {
     "data": {
      "text/html": [
       "<div>\n",
       "<style scoped>\n",
       "    .dataframe tbody tr th:only-of-type {\n",
       "        vertical-align: middle;\n",
       "    }\n",
       "\n",
       "    .dataframe tbody tr th {\n",
       "        vertical-align: top;\n",
       "    }\n",
       "\n",
       "    .dataframe thead th {\n",
       "        text-align: right;\n",
       "    }\n",
       "</style>\n",
       "<table border=\"1\" class=\"dataframe\">\n",
       "  <thead>\n",
       "    <tr style=\"text-align: right;\">\n",
       "      <th></th>\n",
       "      <th>CustomerID</th>\n",
       "      <th>TOTAL_ORDERS</th>\n",
       "      <th>REVENUE</th>\n",
       "      <th>AVERAGE_ORDER_VALUE</th>\n",
       "      <th>CARRIAGE_REVENUE</th>\n",
       "      <th>AVERAGESHIPPING</th>\n",
       "      <th>AVGDAYSBETWEENORDERS</th>\n",
       "      <th>DAYSSINCELASTORDER</th>\n",
       "      <th>MONDAY_ORDERS</th>\n",
       "      <th>TUESDAY_ORDERS</th>\n",
       "      <th>...</th>\n",
       "      <th>WEEK4_DAY24_DAY31_REVENUE</th>\n",
       "      <th>TIME_0000_0600_ORDERS</th>\n",
       "      <th>TIME_0601_1200_ORDERS</th>\n",
       "      <th>TIME_1200_1800_ORDERS</th>\n",
       "      <th>TIME_1801_2359_ORDERS</th>\n",
       "      <th>TIME_0000_0600_REVENUE</th>\n",
       "      <th>TIME_0601_1200_REVENUE</th>\n",
       "      <th>TIME_1200_1800_REVENUE</th>\n",
       "      <th>TIME_1801_2359_REVENUE</th>\n",
       "      <th>No.of.Days</th>\n",
       "    </tr>\n",
       "  </thead>\n",
       "  <tbody>\n",
       "    <tr>\n",
       "      <th>0</th>\n",
       "      <td>22</td>\n",
       "      <td>124</td>\n",
       "      <td>11986.54</td>\n",
       "      <td>96.67</td>\n",
       "      <td>529.59</td>\n",
       "      <td>4.27</td>\n",
       "      <td>14.19</td>\n",
       "      <td>1</td>\n",
       "      <td>13</td>\n",
       "      <td>13</td>\n",
       "      <td>...</td>\n",
       "      <td>2409.71</td>\n",
       "      <td>12</td>\n",
       "      <td>61</td>\n",
       "      <td>37</td>\n",
       "      <td>14</td>\n",
       "      <td>1067.92</td>\n",
       "      <td>5674.65</td>\n",
       "      <td>3916.53</td>\n",
       "      <td>1327.44</td>\n",
       "      <td>1759 days</td>\n",
       "    </tr>\n",
       "    <tr>\n",
       "      <th>1</th>\n",
       "      <td>29</td>\n",
       "      <td>82</td>\n",
       "      <td>11025.96</td>\n",
       "      <td>134.46</td>\n",
       "      <td>97.92</td>\n",
       "      <td>1.19</td>\n",
       "      <td>15.89</td>\n",
       "      <td>1</td>\n",
       "      <td>11</td>\n",
       "      <td>13</td>\n",
       "      <td>...</td>\n",
       "      <td>4106.19</td>\n",
       "      <td>1</td>\n",
       "      <td>13</td>\n",
       "      <td>24</td>\n",
       "      <td>44</td>\n",
       "      <td>30.25</td>\n",
       "      <td>3143.69</td>\n",
       "      <td>2205.47</td>\n",
       "      <td>5646.55</td>\n",
       "      <td>1303 days</td>\n",
       "    </tr>\n",
       "    <tr>\n",
       "      <th>2</th>\n",
       "      <td>83</td>\n",
       "      <td>43</td>\n",
       "      <td>7259.69</td>\n",
       "      <td>168.83</td>\n",
       "      <td>171.69</td>\n",
       "      <td>3.99</td>\n",
       "      <td>33.12</td>\n",
       "      <td>1</td>\n",
       "      <td>5</td>\n",
       "      <td>4</td>\n",
       "      <td>...</td>\n",
       "      <td>2861.90</td>\n",
       "      <td>0</td>\n",
       "      <td>6</td>\n",
       "      <td>12</td>\n",
       "      <td>25</td>\n",
       "      <td>0.00</td>\n",
       "      <td>707.98</td>\n",
       "      <td>2560.91</td>\n",
       "      <td>3990.80</td>\n",
       "      <td>1424 days</td>\n",
       "    </tr>\n",
       "    <tr>\n",
       "      <th>3</th>\n",
       "      <td>95</td>\n",
       "      <td>44</td>\n",
       "      <td>6992.27</td>\n",
       "      <td>158.92</td>\n",
       "      <td>92.82</td>\n",
       "      <td>2.11</td>\n",
       "      <td>21.11</td>\n",
       "      <td>1</td>\n",
       "      <td>10</td>\n",
       "      <td>8</td>\n",
       "      <td>...</td>\n",
       "      <td>1260.08</td>\n",
       "      <td>0</td>\n",
       "      <td>10</td>\n",
       "      <td>13</td>\n",
       "      <td>21</td>\n",
       "      <td>0.00</td>\n",
       "      <td>1908.99</td>\n",
       "      <td>2025.05</td>\n",
       "      <td>3058.23</td>\n",
       "      <td>929 days</td>\n",
       "    </tr>\n",
       "    <tr>\n",
       "      <th>4</th>\n",
       "      <td>124</td>\n",
       "      <td>55</td>\n",
       "      <td>6263.44</td>\n",
       "      <td>113.88</td>\n",
       "      <td>179.04</td>\n",
       "      <td>3.26</td>\n",
       "      <td>6.65</td>\n",
       "      <td>1</td>\n",
       "      <td>2</td>\n",
       "      <td>3</td>\n",
       "      <td>...</td>\n",
       "      <td>768.46</td>\n",
       "      <td>6</td>\n",
       "      <td>9</td>\n",
       "      <td>27</td>\n",
       "      <td>13</td>\n",
       "      <td>501.34</td>\n",
       "      <td>1197.83</td>\n",
       "      <td>3004.77</td>\n",
       "      <td>1559.50</td>\n",
       "      <td>366 days</td>\n",
       "    </tr>\n",
       "    <tr>\n",
       "      <th>...</th>\n",
       "      <td>...</td>\n",
       "      <td>...</td>\n",
       "      <td>...</td>\n",
       "      <td>...</td>\n",
       "      <td>...</td>\n",
       "      <td>...</td>\n",
       "      <td>...</td>\n",
       "      <td>...</td>\n",
       "      <td>...</td>\n",
       "      <td>...</td>\n",
       "      <td>...</td>\n",
       "      <td>...</td>\n",
       "      <td>...</td>\n",
       "      <td>...</td>\n",
       "      <td>...</td>\n",
       "      <td>...</td>\n",
       "      <td>...</td>\n",
       "      <td>...</td>\n",
       "      <td>...</td>\n",
       "      <td>...</td>\n",
       "      <td>...</td>\n",
       "    </tr>\n",
       "    <tr>\n",
       "      <th>4995</th>\n",
       "      <td>173946</td>\n",
       "      <td>1</td>\n",
       "      <td>117.49</td>\n",
       "      <td>117.49</td>\n",
       "      <td>4.99</td>\n",
       "      <td>4.99</td>\n",
       "      <td>0.00</td>\n",
       "      <td>207</td>\n",
       "      <td>0</td>\n",
       "      <td>0</td>\n",
       "      <td>...</td>\n",
       "      <td>0.00</td>\n",
       "      <td>0</td>\n",
       "      <td>0</td>\n",
       "      <td>0</td>\n",
       "      <td>1</td>\n",
       "      <td>0.00</td>\n",
       "      <td>0.00</td>\n",
       "      <td>0.00</td>\n",
       "      <td>117.49</td>\n",
       "      <td>0 days</td>\n",
       "    </tr>\n",
       "    <tr>\n",
       "      <th>4996</th>\n",
       "      <td>173987</td>\n",
       "      <td>1</td>\n",
       "      <td>117.49</td>\n",
       "      <td>117.49</td>\n",
       "      <td>4.99</td>\n",
       "      <td>4.99</td>\n",
       "      <td>0.00</td>\n",
       "      <td>207</td>\n",
       "      <td>0</td>\n",
       "      <td>0</td>\n",
       "      <td>...</td>\n",
       "      <td>0.00</td>\n",
       "      <td>0</td>\n",
       "      <td>0</td>\n",
       "      <td>0</td>\n",
       "      <td>1</td>\n",
       "      <td>0.00</td>\n",
       "      <td>0.00</td>\n",
       "      <td>0.00</td>\n",
       "      <td>117.49</td>\n",
       "      <td>0 days</td>\n",
       "    </tr>\n",
       "    <tr>\n",
       "      <th>4997</th>\n",
       "      <td>174004</td>\n",
       "      <td>1</td>\n",
       "      <td>117.49</td>\n",
       "      <td>117.49</td>\n",
       "      <td>4.99</td>\n",
       "      <td>4.99</td>\n",
       "      <td>0.00</td>\n",
       "      <td>207</td>\n",
       "      <td>0</td>\n",
       "      <td>0</td>\n",
       "      <td>...</td>\n",
       "      <td>0.00</td>\n",
       "      <td>0</td>\n",
       "      <td>0</td>\n",
       "      <td>0</td>\n",
       "      <td>1</td>\n",
       "      <td>0.00</td>\n",
       "      <td>0.00</td>\n",
       "      <td>0.00</td>\n",
       "      <td>117.49</td>\n",
       "      <td>0 days</td>\n",
       "    </tr>\n",
       "    <tr>\n",
       "      <th>4998</th>\n",
       "      <td>174038</td>\n",
       "      <td>1</td>\n",
       "      <td>117.49</td>\n",
       "      <td>117.49</td>\n",
       "      <td>4.99</td>\n",
       "      <td>4.99</td>\n",
       "      <td>0.00</td>\n",
       "      <td>207</td>\n",
       "      <td>0</td>\n",
       "      <td>0</td>\n",
       "      <td>...</td>\n",
       "      <td>0.00</td>\n",
       "      <td>0</td>\n",
       "      <td>0</td>\n",
       "      <td>1</td>\n",
       "      <td>0</td>\n",
       "      <td>0.00</td>\n",
       "      <td>0.00</td>\n",
       "      <td>117.49</td>\n",
       "      <td>0.00</td>\n",
       "      <td>0 days</td>\n",
       "    </tr>\n",
       "    <tr>\n",
       "      <th>4999</th>\n",
       "      <td>200783</td>\n",
       "      <td>2</td>\n",
       "      <td>94.14</td>\n",
       "      <td>47.07</td>\n",
       "      <td>9.94</td>\n",
       "      <td>4.97</td>\n",
       "      <td>1235.50</td>\n",
       "      <td>207</td>\n",
       "      <td>0</td>\n",
       "      <td>0</td>\n",
       "      <td>...</td>\n",
       "      <td>49.95</td>\n",
       "      <td>0</td>\n",
       "      <td>0</td>\n",
       "      <td>1</td>\n",
       "      <td>1</td>\n",
       "      <td>0.00</td>\n",
       "      <td>0.00</td>\n",
       "      <td>44.19</td>\n",
       "      <td>49.95</td>\n",
       "      <td>2471 days</td>\n",
       "    </tr>\n",
       "  </tbody>\n",
       "</table>\n",
       "<p>5000 rows × 39 columns</p>\n",
       "</div>"
      ],
      "text/plain": [
       "      CustomerID  TOTAL_ORDERS   REVENUE  AVERAGE_ORDER_VALUE  \\\n",
       "0             22           124  11986.54                96.67   \n",
       "1             29            82  11025.96               134.46   \n",
       "2             83            43   7259.69               168.83   \n",
       "3             95            44   6992.27               158.92   \n",
       "4            124            55   6263.44               113.88   \n",
       "...          ...           ...       ...                  ...   \n",
       "4995      173946             1    117.49               117.49   \n",
       "4996      173987             1    117.49               117.49   \n",
       "4997      174004             1    117.49               117.49   \n",
       "4998      174038             1    117.49               117.49   \n",
       "4999      200783             2     94.14                47.07   \n",
       "\n",
       "      CARRIAGE_REVENUE  AVERAGESHIPPING  AVGDAYSBETWEENORDERS  \\\n",
       "0               529.59             4.27                 14.19   \n",
       "1                97.92             1.19                 15.89   \n",
       "2               171.69             3.99                 33.12   \n",
       "3                92.82             2.11                 21.11   \n",
       "4               179.04             3.26                  6.65   \n",
       "...                ...              ...                   ...   \n",
       "4995              4.99             4.99                  0.00   \n",
       "4996              4.99             4.99                  0.00   \n",
       "4997              4.99             4.99                  0.00   \n",
       "4998              4.99             4.99                  0.00   \n",
       "4999              9.94             4.97               1235.50   \n",
       "\n",
       "      DAYSSINCELASTORDER  MONDAY_ORDERS  TUESDAY_ORDERS  ...  \\\n",
       "0                      1             13              13  ...   \n",
       "1                      1             11              13  ...   \n",
       "2                      1              5               4  ...   \n",
       "3                      1             10               8  ...   \n",
       "4                      1              2               3  ...   \n",
       "...                  ...            ...             ...  ...   \n",
       "4995                 207              0               0  ...   \n",
       "4996                 207              0               0  ...   \n",
       "4997                 207              0               0  ...   \n",
       "4998                 207              0               0  ...   \n",
       "4999                 207              0               0  ...   \n",
       "\n",
       "      WEEK4_DAY24_DAY31_REVENUE  TIME_0000_0600_ORDERS  TIME_0601_1200_ORDERS  \\\n",
       "0                       2409.71                     12                     61   \n",
       "1                       4106.19                      1                     13   \n",
       "2                       2861.90                      0                      6   \n",
       "3                       1260.08                      0                     10   \n",
       "4                        768.46                      6                      9   \n",
       "...                         ...                    ...                    ...   \n",
       "4995                       0.00                      0                      0   \n",
       "4996                       0.00                      0                      0   \n",
       "4997                       0.00                      0                      0   \n",
       "4998                       0.00                      0                      0   \n",
       "4999                      49.95                      0                      0   \n",
       "\n",
       "      TIME_1200_1800_ORDERS  TIME_1801_2359_ORDERS  TIME_0000_0600_REVENUE  \\\n",
       "0                        37                     14                 1067.92   \n",
       "1                        24                     44                   30.25   \n",
       "2                        12                     25                    0.00   \n",
       "3                        13                     21                    0.00   \n",
       "4                        27                     13                  501.34   \n",
       "...                     ...                    ...                     ...   \n",
       "4995                      0                      1                    0.00   \n",
       "4996                      0                      1                    0.00   \n",
       "4997                      0                      1                    0.00   \n",
       "4998                      1                      0                    0.00   \n",
       "4999                      1                      1                    0.00   \n",
       "\n",
       "      TIME_0601_1200_REVENUE  TIME_1200_1800_REVENUE  TIME_1801_2359_REVENUE  \\\n",
       "0                    5674.65                 3916.53                 1327.44   \n",
       "1                    3143.69                 2205.47                 5646.55   \n",
       "2                     707.98                 2560.91                 3990.80   \n",
       "3                    1908.99                 2025.05                 3058.23   \n",
       "4                    1197.83                 3004.77                 1559.50   \n",
       "...                      ...                     ...                     ...   \n",
       "4995                    0.00                    0.00                  117.49   \n",
       "4996                    0.00                    0.00                  117.49   \n",
       "4997                    0.00                    0.00                  117.49   \n",
       "4998                    0.00                  117.49                    0.00   \n",
       "4999                    0.00                   44.19                   49.95   \n",
       "\n",
       "      No.of.Days  \n",
       "0      1759 days  \n",
       "1      1303 days  \n",
       "2      1424 days  \n",
       "3       929 days  \n",
       "4       366 days  \n",
       "...          ...  \n",
       "4995      0 days  \n",
       "4996      0 days  \n",
       "4997      0 days  \n",
       "4998      0 days  \n",
       "4999   2471 days  \n",
       "\n",
       "[5000 rows x 39 columns]"
      ]
     },
     "execution_count": 9,
     "metadata": {},
     "output_type": "execute_result"
    }
   ],
   "source": [
    "df"
   ]
  },
  {
   "cell_type": "code",
   "execution_count": 10,
   "metadata": {},
   "outputs": [],
   "source": [
    "df['No.of.Days']=df['No.of.Days'].apply(lambda x: x.days)"
   ]
  },
  {
   "cell_type": "code",
   "execution_count": 11,
   "metadata": {},
   "outputs": [],
   "source": [
    "from sklearn.cluster import KMeans"
   ]
  },
  {
   "cell_type": "code",
   "execution_count": 12,
   "metadata": {},
   "outputs": [],
   "source": [
    "x=df.drop(['CustomerID'],axis=1).values"
   ]
  },
  {
   "cell_type": "code",
   "execution_count": 13,
   "metadata": {},
   "outputs": [
    {
     "data": {
      "text/plain": [
       "(5000, 38)"
      ]
     },
     "execution_count": 13,
     "metadata": {},
     "output_type": "execute_result"
    }
   ],
   "source": [
    "x.shape"
   ]
  },
  {
   "cell_type": "markdown",
   "metadata": {},
   "source": [
    "Scaling the data"
   ]
  },
  {
   "cell_type": "code",
   "execution_count": 14,
   "metadata": {},
   "outputs": [],
   "source": [
    "from sklearn.preprocessing import StandardScaler"
   ]
  },
  {
   "cell_type": "code",
   "execution_count": 15,
   "metadata": {},
   "outputs": [],
   "source": [
    "scaler = StandardScaler()"
   ]
  },
  {
   "cell_type": "code",
   "execution_count": 16,
   "metadata": {},
   "outputs": [],
   "source": [
    "x=scaler.fit_transform(x)"
   ]
  },
  {
   "cell_type": "markdown",
   "metadata": {},
   "source": [
    "Elbow method to find no.of clusters"
   ]
  },
  {
   "cell_type": "code",
   "execution_count": 17,
   "metadata": {},
   "outputs": [],
   "source": [
    "from scipy.spatial.distance import cdist"
   ]
  },
  {
   "cell_type": "code",
   "execution_count": 18,
   "metadata": {},
   "outputs": [],
   "source": [
    "distortions = []\n",
    "inertias = []\n",
    "mapping1 = {}\n",
    "mapping2 = {}\n",
    "K = range(1, 10)\n",
    "\n",
    "for k in K:\n",
    "    # Building and fitting the model\n",
    "    kmeanModel = KMeans(n_clusters=k)\n",
    "    kmeanModel.fit(x)\n",
    "    \n",
    "    distortions.append(sum(np.min(cdist(x, kmeanModel.cluster_centers_,'euclidean'), axis=1)) / x.shape[0])\n",
    "    \n",
    "    inertias.append(kmeanModel.inertia_)\n",
    "    \n",
    "    mapping1[k] = sum(np.min(cdist(x, kmeanModel.cluster_centers_,'euclidean'), axis=1)) / x.shape[0]\n",
    "    \n",
    "    mapping2[k] = kmeanModel.inertia_\n"
   ]
  },
  {
   "cell_type": "code",
   "execution_count": 19,
   "metadata": {},
   "outputs": [
    {
     "data": {
      "image/png": "[encoded data removed]",
      "text/plain": [
       "<Figure size 432x288 with 1 Axes>"
      ]
     },
     "metadata": {
      "needs_background": "light"
     },
     "output_type": "display_data"
    }
   ],
   "source": [
    "plt.plot(K, distortions, 'bx-')\n",
    "plt.xlabel('Values of K')\n",
    "plt.ylabel('Distortion')\n",
    "plt.title('The Elbow Method using Distortion')\n",
    "plt.show()"
   ]
  },
  {
   "cell_type": "markdown",
   "metadata": {},
   "source": [
    "We found that optimal no.of clusters is 5"
   ]
  },
  {
   "cell_type": "code",
   "execution_count": 20,
   "metadata": {},
   "outputs": [],
   "source": [
    "kmeanModel = KMeans(n_clusters=5, random_state=53)\n",
    "kmeans=kmeanModel.fit(x)"
   ]
  },
  {
   "cell_type": "code",
   "execution_count": 21,
   "metadata": {},
   "outputs": [],
   "source": [
    "df['Labels']=kmeans.labels_"
   ]
  },
  {
   "cell_type": "code",
   "execution_count": 22,
   "metadata": {},
   "outputs": [],
   "source": [
    "h1=['Label0','Label1','Label2','Label3','Label4']"
   ]
  },
  {
   "cell_type": "code",
   "execution_count": 455,
   "metadata": {},
   "outputs": [],
   "source": [
    "h=['REVENUE','TOTAL_ORDERS','AVGDAYSBETWEENORDERS','DAYSSINCELASTORDER']"
   ]
  },
  {
   "cell_type": "code",
   "execution_count": 451,
   "metadata": {},
   "outputs": [],
   "source": [
    "def va(df):\n",
    "    v1=[]\n",
    "    for i in range(5):\n",
    "        d=df[df['Labels']==i]\n",
    "        r=d['REVENUE'].mean()\n",
    "        t=d['TOTAL_ORDERS'].mean()\n",
    "        c=d['AVGDAYSBETWEENORDERS'].mean()\n",
    "        d=d['DAYSSINCELASTORDER'].mean()\n",
    "        v1.append([r,t,c,d])\n",
    "    return v1"
   ]
  },
  {
   "cell_type": "code",
   "execution_count": 452,
   "metadata": {},
   "outputs": [],
   "source": [
    "t=va(df)"
   ]
  },
  {
   "cell_type": "code",
   "execution_count": 453,
   "metadata": {},
   "outputs": [],
   "source": [
    "t=np.array(t)"
   ]
  },
  {
   "cell_type": "code",
   "execution_count": 27,
   "metadata": {},
   "outputs": [],
   "source": [
    "# helper function to print values on the chart\n",
    "def show_values_on_bars(axs):\n",
    "    def _show_on_single_plot(ax):        \n",
    "        for p in ax.patches:\n",
    "            _x = p.get_x() + p.get_width() / 2\n",
    "            _y = p.get_y() + p.get_height()\n",
    "            value = '{:.2f}'.format(p.get_height())\n",
    "            ax.text(_x, _y, value, ha=\"center\") \n",
    "\n",
    "    if isinstance(axs, np.ndarray):\n",
    "        for idx, ax in np.ndenumerate(axs):\n",
    "            _show_on_single_plot(ax)\n",
    "    else:\n",
    "        _show_on_single_plot(axs)"
   ]
  },
  {
   "cell_type": "code",
   "execution_count": 450,
   "metadata": {},
   "outputs": [
    {
     "data": {
      "text/html": [
       "<div>\n",
       "<style scoped>\n",
       "    .dataframe tbody tr th:only-of-type {\n",
       "        vertical-align: middle;\n",
       "    }\n",
       "\n",
       "    .dataframe tbody tr th {\n",
       "        vertical-align: top;\n",
       "    }\n",
       "\n",
       "    .dataframe thead th {\n",
       "        text-align: right;\n",
       "    }\n",
       "</style>\n",
       "<table border=\"1\" class=\"dataframe\">\n",
       "  <thead>\n",
       "    <tr style=\"text-align: right;\">\n",
       "      <th></th>\n",
       "      <th>CustomerID</th>\n",
       "      <th>TOTAL_ORDERS</th>\n",
       "      <th>REVENUE</th>\n",
       "      <th>AVERAGE_ORDER_VALUE</th>\n",
       "      <th>CARRIAGE_REVENUE</th>\n",
       "      <th>AVERAGESHIPPING</th>\n",
       "      <th>AVGDAYSBETWEENORDERS</th>\n",
       "      <th>DAYSSINCELASTORDER</th>\n",
       "      <th>MONDAY_ORDERS</th>\n",
       "      <th>TUESDAY_ORDERS</th>\n",
       "      <th>...</th>\n",
       "      <th>TIME_0000_0600_ORDERS</th>\n",
       "      <th>TIME_0601_1200_ORDERS</th>\n",
       "      <th>TIME_1200_1800_ORDERS</th>\n",
       "      <th>TIME_1801_2359_ORDERS</th>\n",
       "      <th>TIME_0000_0600_REVENUE</th>\n",
       "      <th>TIME_0601_1200_REVENUE</th>\n",
       "      <th>TIME_1200_1800_REVENUE</th>\n",
       "      <th>TIME_1801_2359_REVENUE</th>\n",
       "      <th>No.of.Days</th>\n",
       "      <th>Labels</th>\n",
       "    </tr>\n",
       "  </thead>\n",
       "  <tbody>\n",
       "    <tr>\n",
       "      <th>0</th>\n",
       "      <td>22</td>\n",
       "      <td>124</td>\n",
       "      <td>11986.54</td>\n",
       "      <td>96.67</td>\n",
       "      <td>529.59</td>\n",
       "      <td>4.27</td>\n",
       "      <td>14.19</td>\n",
       "      <td>1</td>\n",
       "      <td>13</td>\n",
       "      <td>13</td>\n",
       "      <td>...</td>\n",
       "      <td>12</td>\n",
       "      <td>61</td>\n",
       "      <td>37</td>\n",
       "      <td>14</td>\n",
       "      <td>1067.92</td>\n",
       "      <td>5674.65</td>\n",
       "      <td>3916.53</td>\n",
       "      <td>1327.44</td>\n",
       "      <td>1759</td>\n",
       "      <td>1</td>\n",
       "    </tr>\n",
       "    <tr>\n",
       "      <th>1</th>\n",
       "      <td>29</td>\n",
       "      <td>82</td>\n",
       "      <td>11025.96</td>\n",
       "      <td>134.46</td>\n",
       "      <td>97.92</td>\n",
       "      <td>1.19</td>\n",
       "      <td>15.89</td>\n",
       "      <td>1</td>\n",
       "      <td>11</td>\n",
       "      <td>13</td>\n",
       "      <td>...</td>\n",
       "      <td>1</td>\n",
       "      <td>13</td>\n",
       "      <td>24</td>\n",
       "      <td>44</td>\n",
       "      <td>30.25</td>\n",
       "      <td>3143.69</td>\n",
       "      <td>2205.47</td>\n",
       "      <td>5646.55</td>\n",
       "      <td>1303</td>\n",
       "      <td>1</td>\n",
       "    </tr>\n",
       "    <tr>\n",
       "      <th>2</th>\n",
       "      <td>83</td>\n",
       "      <td>43</td>\n",
       "      <td>7259.69</td>\n",
       "      <td>168.83</td>\n",
       "      <td>171.69</td>\n",
       "      <td>3.99</td>\n",
       "      <td>33.12</td>\n",
       "      <td>1</td>\n",
       "      <td>5</td>\n",
       "      <td>4</td>\n",
       "      <td>...</td>\n",
       "      <td>0</td>\n",
       "      <td>6</td>\n",
       "      <td>12</td>\n",
       "      <td>25</td>\n",
       "      <td>0.00</td>\n",
       "      <td>707.98</td>\n",
       "      <td>2560.91</td>\n",
       "      <td>3990.80</td>\n",
       "      <td>1424</td>\n",
       "      <td>3</td>\n",
       "    </tr>\n",
       "    <tr>\n",
       "      <th>3</th>\n",
       "      <td>95</td>\n",
       "      <td>44</td>\n",
       "      <td>6992.27</td>\n",
       "      <td>158.92</td>\n",
       "      <td>92.82</td>\n",
       "      <td>2.11</td>\n",
       "      <td>21.11</td>\n",
       "      <td>1</td>\n",
       "      <td>10</td>\n",
       "      <td>8</td>\n",
       "      <td>...</td>\n",
       "      <td>0</td>\n",
       "      <td>10</td>\n",
       "      <td>13</td>\n",
       "      <td>21</td>\n",
       "      <td>0.00</td>\n",
       "      <td>1908.99</td>\n",
       "      <td>2025.05</td>\n",
       "      <td>3058.23</td>\n",
       "      <td>929</td>\n",
       "      <td>3</td>\n",
       "    </tr>\n",
       "    <tr>\n",
       "      <th>4</th>\n",
       "      <td>124</td>\n",
       "      <td>55</td>\n",
       "      <td>6263.44</td>\n",
       "      <td>113.88</td>\n",
       "      <td>179.04</td>\n",
       "      <td>3.26</td>\n",
       "      <td>6.65</td>\n",
       "      <td>1</td>\n",
       "      <td>2</td>\n",
       "      <td>3</td>\n",
       "      <td>...</td>\n",
       "      <td>6</td>\n",
       "      <td>9</td>\n",
       "      <td>27</td>\n",
       "      <td>13</td>\n",
       "      <td>501.34</td>\n",
       "      <td>1197.83</td>\n",
       "      <td>3004.77</td>\n",
       "      <td>1559.50</td>\n",
       "      <td>366</td>\n",
       "      <td>3</td>\n",
       "    </tr>\n",
       "    <tr>\n",
       "      <th>...</th>\n",
       "      <td>...</td>\n",
       "      <td>...</td>\n",
       "      <td>...</td>\n",
       "      <td>...</td>\n",
       "      <td>...</td>\n",
       "      <td>...</td>\n",
       "      <td>...</td>\n",
       "      <td>...</td>\n",
       "      <td>...</td>\n",
       "      <td>...</td>\n",
       "      <td>...</td>\n",
       "      <td>...</td>\n",
       "      <td>...</td>\n",
       "      <td>...</td>\n",
       "      <td>...</td>\n",
       "      <td>...</td>\n",
       "      <td>...</td>\n",
       "      <td>...</td>\n",
       "      <td>...</td>\n",
       "      <td>...</td>\n",
       "      <td>...</td>\n",
       "    </tr>\n",
       "    <tr>\n",
       "      <th>4995</th>\n",
       "      <td>173946</td>\n",
       "      <td>1</td>\n",
       "      <td>117.49</td>\n",
       "      <td>117.49</td>\n",
       "      <td>4.99</td>\n",
       "      <td>4.99</td>\n",
       "      <td>0.00</td>\n",
       "      <td>207</td>\n",
       "      <td>0</td>\n",
       "      <td>0</td>\n",
       "      <td>...</td>\n",
       "      <td>0</td>\n",
       "      <td>0</td>\n",
       "      <td>0</td>\n",
       "      <td>1</td>\n",
       "      <td>0.00</td>\n",
       "      <td>0.00</td>\n",
       "      <td>0.00</td>\n",
       "      <td>117.49</td>\n",
       "      <td>0</td>\n",
       "      <td>2</td>\n",
       "    </tr>\n",
       "    <tr>\n",
       "      <th>4996</th>\n",
       "      <td>173987</td>\n",
       "      <td>1</td>\n",
       "      <td>117.49</td>\n",
       "      <td>117.49</td>\n",
       "      <td>4.99</td>\n",
       "      <td>4.99</td>\n",
       "      <td>0.00</td>\n",
       "      <td>207</td>\n",
       "      <td>0</td>\n",
       "      <td>0</td>\n",
       "      <td>...</td>\n",
       "      <td>0</td>\n",
       "      <td>0</td>\n",
       "      <td>0</td>\n",
       "      <td>1</td>\n",
       "      <td>0.00</td>\n",
       "      <td>0.00</td>\n",
       "      <td>0.00</td>\n",
       "      <td>117.49</td>\n",
       "      <td>0</td>\n",
       "      <td>2</td>\n",
       "    </tr>\n",
       "    <tr>\n",
       "      <th>4997</th>\n",
       "      <td>174004</td>\n",
       "      <td>1</td>\n",
       "      <td>117.49</td>\n",
       "      <td>117.49</td>\n",
       "      <td>4.99</td>\n",
       "      <td>4.99</td>\n",
       "      <td>0.00</td>\n",
       "      <td>207</td>\n",
       "      <td>0</td>\n",
       "      <td>0</td>\n",
       "      <td>...</td>\n",
       "      <td>0</td>\n",
       "      <td>0</td>\n",
       "      <td>0</td>\n",
       "      <td>1</td>\n",
       "      <td>0.00</td>\n",
       "      <td>0.00</td>\n",
       "      <td>0.00</td>\n",
       "      <td>117.49</td>\n",
       "      <td>0</td>\n",
       "      <td>2</td>\n",
       "    </tr>\n",
       "    <tr>\n",
       "      <th>4998</th>\n",
       "      <td>174038</td>\n",
       "      <td>1</td>\n",
       "      <td>117.49</td>\n",
       "      <td>117.49</td>\n",
       "      <td>4.99</td>\n",
       "      <td>4.99</td>\n",
       "      <td>0.00</td>\n",
       "      <td>207</td>\n",
       "      <td>0</td>\n",
       "      <td>0</td>\n",
       "      <td>...</td>\n",
       "      <td>0</td>\n",
       "      <td>0</td>\n",
       "      <td>1</td>\n",
       "      <td>0</td>\n",
       "      <td>0.00</td>\n",
       "      <td>0.00</td>\n",
       "      <td>117.49</td>\n",
       "      <td>0.00</td>\n",
       "      <td>0</td>\n",
       "      <td>2</td>\n",
       "    </tr>\n",
       "    <tr>\n",
       "      <th>4999</th>\n",
       "      <td>200783</td>\n",
       "      <td>2</td>\n",
       "      <td>94.14</td>\n",
       "      <td>47.07</td>\n",
       "      <td>9.94</td>\n",
       "      <td>4.97</td>\n",
       "      <td>1235.50</td>\n",
       "      <td>207</td>\n",
       "      <td>0</td>\n",
       "      <td>0</td>\n",
       "      <td>...</td>\n",
       "      <td>0</td>\n",
       "      <td>0</td>\n",
       "      <td>1</td>\n",
       "      <td>1</td>\n",
       "      <td>0.00</td>\n",
       "      <td>0.00</td>\n",
       "      <td>44.19</td>\n",
       "      <td>49.95</td>\n",
       "      <td>2471</td>\n",
       "      <td>4</td>\n",
       "    </tr>\n",
       "  </tbody>\n",
       "</table>\n",
       "<p>5000 rows × 40 columns</p>\n",
       "</div>"
      ],
      "text/plain": [
       "      CustomerID  TOTAL_ORDERS   REVENUE  AVERAGE_ORDER_VALUE  \\\n",
       "0             22           124  11986.54                96.67   \n",
       "1             29            82  11025.96               134.46   \n",
       "2             83            43   7259.69               168.83   \n",
       "3             95            44   6992.27               158.92   \n",
       "4            124            55   6263.44               113.88   \n",
       "...          ...           ...       ...                  ...   \n",
       "4995      173946             1    117.49               117.49   \n",
       "4996      173987             1    117.49               117.49   \n",
       "4997      174004             1    117.49               117.49   \n",
       "4998      174038             1    117.49               117.49   \n",
       "4999      200783             2     94.14                47.07   \n",
       "\n",
       "      CARRIAGE_REVENUE  AVERAGESHIPPING  AVGDAYSBETWEENORDERS  \\\n",
       "0               529.59             4.27                 14.19   \n",
       "1                97.92             1.19                 15.89   \n",
       "2               171.69             3.99                 33.12   \n",
       "3                92.82             2.11                 21.11   \n",
       "4               179.04             3.26                  6.65   \n",
       "...                ...              ...                   ...   \n",
       "4995              4.99             4.99                  0.00   \n",
       "4996              4.99             4.99                  0.00   \n",
       "4997              4.99             4.99                  0.00   \n",
       "4998              4.99             4.99                  0.00   \n",
       "4999              9.94             4.97               1235.50   \n",
       "\n",
       "      DAYSSINCELASTORDER  MONDAY_ORDERS  TUESDAY_ORDERS  ...  \\\n",
       "0                      1             13              13  ...   \n",
       "1                      1             11              13  ...   \n",
       "2                      1              5               4  ...   \n",
       "3                      1             10               8  ...   \n",
       "4                      1              2               3  ...   \n",
       "...                  ...            ...             ...  ...   \n",
       "4995                 207              0               0  ...   \n",
       "4996                 207              0               0  ...   \n",
       "4997                 207              0               0  ...   \n",
       "4998                 207              0               0  ...   \n",
       "4999                 207              0               0  ...   \n",
       "\n",
       "      TIME_0000_0600_ORDERS  TIME_0601_1200_ORDERS  TIME_1200_1800_ORDERS  \\\n",
       "0                        12                     61                     37   \n",
       "1                         1                     13                     24   \n",
       "2                         0                      6                     12   \n",
       "3                         0                     10                     13   \n",
       "4                         6                      9                     27   \n",
       "...                     ...                    ...                    ...   \n",
       "4995                      0                      0                      0   \n",
       "4996                      0                      0                      0   \n",
       "4997                      0                      0                      0   \n",
       "4998                      0                      0                      1   \n",
       "4999                      0                      0                      1   \n",
       "\n",
       "      TIME_1801_2359_ORDERS  TIME_0000_0600_REVENUE  TIME_0601_1200_REVENUE  \\\n",
       "0                        14                 1067.92                 5674.65   \n",
       "1                        44                   30.25                 3143.69   \n",
       "2                        25                    0.00                  707.98   \n",
       "3                        21                    0.00                 1908.99   \n",
       "4                        13                  501.34                 1197.83   \n",
       "...                     ...                     ...                     ...   \n",
       "4995                      1                    0.00                    0.00   \n",
       "4996                      1                    0.00                    0.00   \n",
       "4997                      1                    0.00                    0.00   \n",
       "4998                      0                    0.00                    0.00   \n",
       "4999                      1                    0.00                    0.00   \n",
       "\n",
       "      TIME_1200_1800_REVENUE  TIME_1801_2359_REVENUE  No.of.Days  Labels  \n",
       "0                    3916.53                 1327.44        1759       1  \n",
       "1                    2205.47                 5646.55        1303       1  \n",
       "2                    2560.91                 3990.80        1424       3  \n",
       "3                    2025.05                 3058.23         929       3  \n",
       "4                    3004.77                 1559.50         366       3  \n",
       "...                      ...                     ...         ...     ...  \n",
       "4995                    0.00                  117.49           0       2  \n",
       "4996                    0.00                  117.49           0       2  \n",
       "4997                    0.00                  117.49           0       2  \n",
       "4998                  117.49                    0.00           0       2  \n",
       "4999                   44.19                   49.95        2471       4  \n",
       "\n",
       "[5000 rows x 40 columns]"
      ]
     },
     "execution_count": 450,
     "metadata": {},
     "output_type": "execute_result"
    }
   ],
   "source": [
    "df"
   ]
  },
  {
   "cell_type": "code",
   "execution_count": 456,
   "metadata": {},
   "outputs": [
    {
     "data": {
      "image/png": "[encoded data removed]",
      "text/plain": [
       "<Figure size 1440x1080 with 4 Axes>"
      ]
     },
     "metadata": {
      "needs_background": "light"
     },
     "output_type": "display_data"
    }
   ],
   "source": [
    "fig,ax=plt.subplots(2,2,figsize=(20, 15))\n",
    "for i in range(2):\n",
    "    for j in range(2):\n",
    "        sns.barplot(x = h1,\n",
    "                y = t[:,2*i+j],ax=ax[i][j])\n",
    "        ax[i][j].set_title(h[2*i+j])\n",
    "        show_values_on_bars(ax[i][j])"
   ]
  },
  {
   "cell_type": "markdown",
   "metadata": {},
   "source": [
    "We can observe that Label 1 generated more revenue, following Label 3 & Label 0. Label 2, Label 4 are least"
   ]
  },
  {
   "cell_type": "markdown",
   "metadata": {},
   "source": [
    "In total orders Label 1 topped, following Label 3 & Label 0. Label 2, Label 4 are ordered on average 3-6 orders till date."
   ]
  },
  {
   "cell_type": "markdown",
   "metadata": {},
   "source": [
    "Average days between orders should be as low as possible. Label 1, Label 3 has least days. Label 0, Label 2 are medium. Label 4 has highest days in between orders."
   ]
  },
  {
   "cell_type": "markdown",
   "metadata": {},
   "source": [
    "Lesser the value of days since last order is good. Label 2 has highest value, following Label 4. On average Label 1, Label 3 customers ordered before 58 days. Label 0 has 65 days on an average"
   ]
  },
  {
   "cell_type": "code",
   "execution_count": 460,
   "metadata": {},
   "outputs": [],
   "source": [
    "y0=[]\n",
    "y1=[]\n",
    "for i in range(5):\n",
    "    y0.append(df[df['Labels']==i]['AVGDAYSBETWEENORDERS'].mean())\n",
    "    y1.append(df[df['Labels']==i]['DAYSSINCELASTORDER'].mean())"
   ]
  },
  {
   "cell_type": "code",
   "execution_count": 462,
   "metadata": {},
   "outputs": [
    {
     "data": {
      "text/plain": [
       "Text(0, 0.5, 'Count_days')"
      ]
     },
     "execution_count": 462,
     "metadata": {},
     "output_type": "execute_result"
    },
    {
     "data": {
      "image/png": "[encoded data removed]",
      "text/plain": [
       "<Figure size 1080x504 with 1 Axes>"
      ]
     },
     "metadata": {
      "needs_background": "light"
     },
     "output_type": "display_data"
    }
   ],
   "source": [
    "plt.figure(figsize=(15, 7))\n",
    "plt.plot( range(5), y0, marker='o', markerfacecolor='blue', markersize=12, color='skyblue', linewidth=4)\n",
    "plt.plot( range(5), y1, marker='o', markerfacecolor='olive', markersize=12, color='skyblue', linewidth=4)\n",
    "plt.xlabel('Labels')\n",
    "plt.ylabel('Count_days')"
   ]
  },
  {
   "cell_type": "markdown",
   "metadata": {},
   "source": [
    "We can observe that, Label4 has highest average days between order. Least the value means, more frequently customer buy product. Here, Label1 customers buys more frequently.  "
   ]
  },
  {
   "cell_type": "markdown",
   "metadata": {},
   "source": [
    "Days since last order represents how many days before he ordered. On average Label2 customers ordered before 110 days, whereas Label4 ordered before 96 days."
   ]
  },
  {
   "cell_type": "markdown",
   "metadata": {},
   "source": [
    "## From the above bar, line chart observation we can divide customers into segments"
   ]
  },
  {
   "cell_type": "markdown",
   "metadata": {},
   "source": [
    "## We can segment Label 1 as Champion, Label 0,2,3 as Potential customers and Label 4 as Need attention"
   ]
  },
  {
   "cell_type": "markdown",
   "metadata": {},
   "source": [
    "## We segmented Label 2 as Potential Customers because average days between order is low, which is good"
   ]
  },
  {
   "cell_type": "code",
   "execution_count": 259,
   "metadata": {},
   "outputs": [],
   "source": [
    "week_order0=df[df['Labels']==0]\n",
    "week_order1=df[df['Labels']==1]\n",
    "week_order2=df[df['Labels']==2]\n",
    "week_order3=df[df['Labels']==3]\n",
    "week_order4=df[df['Labels']==4]\n",
    "y0=[]\n",
    "y1=[]\n",
    "y2=[]\n",
    "y3=[]\n",
    "y4=[]\n",
    "for i in week_order0.columns[22:26]:\n",
    "    y0.append(week_order0[i].mean())\n",
    "    y1.append(week_order1[i].mean())\n",
    "    y2.append(week_order2[i].mean())\n",
    "    y3.append(week_order3[i].mean())\n",
    "    y4.append(week_order4[i].mean())"
   ]
  },
  {
   "cell_type": "code",
   "execution_count": 267,
   "metadata": {},
   "outputs": [
    {
     "name": "stderr",
     "output_type": "stream",
     "text": [
      "No handles with labels found to put in legend.\n"
     ]
    },
    {
     "data": {
      "text/plain": [
       "<matplotlib.legend.Legend at 0x293a23eaa30>"
      ]
     },
     "execution_count": 267,
     "metadata": {},
     "output_type": "execute_result"
    },
    {
     "data": {
      "image/png": "[encoded data removed]",
      "text/plain": [
       "<Figure size 1080x504 with 1 Axes>"
      ]
     },
     "metadata": {
      "needs_background": "light"
     },
     "output_type": "display_data"
    }
   ],
   "source": [
    "plt.figure(figsize=(15, 7))\n",
    "plt.plot( week_order0.columns[22:26], y0, marker='o', markerfacecolor='blue', markersize=12, color='skyblue', linewidth=4)\n",
    "plt.plot( week_order1.columns[22:26], y1, marker='o', markerfacecolor='olive', markersize=12, color='skyblue', linewidth=4)\n",
    "plt.plot( week_order2.columns[22:26], y2, marker='o', markerfacecolor='r', markersize=12, color='skyblue', linewidth=4)\n",
    "plt.plot( week_order3.columns[22:26], y3, marker='o', markerfacecolor='g', markersize=12, color='skyblue', linewidth=4)\n",
    "plt.plot( week_order4.columns[22:26], y4, marker='o', markerfacecolor='b', markersize=12, color='skyblue', linewidth=4)\n",
    "plt.legend()"
   ]
  },
  {
   "cell_type": "code",
   "execution_count": null,
   "metadata": {},
   "outputs": [],
   "source": []
  },
  {
   "cell_type": "markdown",
   "metadata": {},
   "source": [
    "# Cluster Divide"
   ]
  },
  {
   "cell_type": "markdown",
   "metadata": {},
   "source": [
    "## CHAMPIONS"
   ]
  },
  {
   "cell_type": "markdown",
   "metadata": {},
   "source": [
    "## Label: 1"
   ]
  },
  {
   "cell_type": "code",
   "execution_count": 165,
   "metadata": {},
   "outputs": [],
   "source": [
    "df1=df[df['Labels']==1]"
   ]
  },
  {
   "cell_type": "markdown",
   "metadata": {},
   "source": [
    "## Average spending per day ??"
   ]
  },
  {
   "cell_type": "code",
   "execution_count": 447,
   "metadata": {},
   "outputs": [
    {
     "data": {
      "image/png": "[encoded data removed]",
      "text/plain": [
       "<Figure size 720x504 with 1 Axes>"
      ]
     },
     "metadata": {
      "needs_background": "light"
     },
     "output_type": "display_data"
    }
   ],
   "source": [
    "c=df1['REVENUE']/df1['No.of.Days']\n",
    "from matplotlib import pyplot as plt\n",
    "import numpy as np\n",
    "\n",
    "\n",
    "# Creating dataset\n",
    "a = np.array(c)\n",
    "\n",
    "# Creating histogram\n",
    "fig, ax = plt.subplots(figsize =(10, 7))\n",
    "ax.hist(a, bins = range(0,69,3), edgecolor='black')\n",
    "\n",
    "plt.title(\"Average spending\")\n",
    "plt.xlabel('\\nspending_per_day\\n', fontsize = 10)\n",
    "plt.ylabel('\\ncount\\n', fontsize = 10)\n",
    "\n",
    "# Show plot\n",
    "plt.show()"
   ]
  },
  {
   "cell_type": "markdown",
   "metadata": {},
   "source": [
    "Most Champion Customer's average order value per day lies between 3-15 rupees."
   ]
  },
  {
   "cell_type": "markdown",
   "metadata": {},
   "source": [
    "## How many orders customer do ??"
   ]
  },
  {
   "cell_type": "code",
   "execution_count": 379,
   "metadata": {},
   "outputs": [
    {
     "data": {
      "image/png": "[encoded data removed]",
      "text/plain": [
       "<Figure size 720x504 with 1 Axes>"
      ]
     },
     "metadata": {
      "needs_background": "light"
     },
     "output_type": "display_data"
    }
   ],
   "source": [
    "from matplotlib import pyplot as plt\n",
    "import numpy as np\n",
    "\n",
    "\n",
    "# Creating dataset\n",
    "a = np.array(df1['TOTAL_ORDERS'])\n",
    "\n",
    "# Creating histogram\n",
    "fig, ax = plt.subplots(figsize =(10, 7))\n",
    "ax.hist(a, bins = range(min(a),max(a),5),edgecolor='black')\n",
    "\n",
    "plt.title(\"Average spending\")\n",
    "plt.xlabel('\\nspending_per_day\\n', fontsize = 10)\n",
    "plt.ylabel('\\ncount\\n', fontsize = 10)\n",
    "\n",
    "# Show plot\n",
    "plt.show()"
   ]
  },
  {
   "cell_type": "markdown",
   "metadata": {},
   "source": [
    "We can observe that, most Champion customer's order 30-90 orders till date."
   ]
  },
  {
   "cell_type": "markdown",
   "metadata": {},
   "source": [
    "## Average order value "
   ]
  },
  {
   "cell_type": "code",
   "execution_count": 387,
   "metadata": {},
   "outputs": [
    {
     "data": {
      "image/png": "[encoded data removed]",
      "text/plain": [
       "<Figure size 720x504 with 1 Axes>"
      ]
     },
     "metadata": {
      "needs_background": "light"
     },
     "output_type": "display_data"
    }
   ],
   "source": [
    "from matplotlib import pyplot as plt\n",
    "import numpy as np\n",
    "\n",
    "\n",
    "# Creating dataset\n",
    "a = np.array(df1['AVERAGE_ORDER_VALUE'])\n",
    "\n",
    "# Creating histogram\n",
    "fig, ax = plt.subplots(figsize =(10, 7))\n",
    "ax.hist(a, bins = range(60,1000,20),edgecolor='black')\n",
    "\n",
    "plt.title(\"Average spending\")\n",
    "plt.xlabel('\\nspending_per_day\\n', fontsize = 10)\n",
    "plt.ylabel('\\ncount\\n', fontsize = 10)\n",
    "\n",
    "# Show plot\n",
    "plt.show()"
   ]
  },
  {
   "cell_type": "markdown",
   "metadata": {},
   "source": [
    "From the graph, most of the customers in this cluster spend 0-400 rupees on each order."
   ]
  },
  {
   "cell_type": "markdown",
   "metadata": {},
   "source": [
    "We can recommend products that are in the range 0-400 rupees.\n",
    "If order value crosses 400 rupees then we can give additional discount or coupons, so that they can buy more."
   ]
  },
  {
   "cell_type": "markdown",
   "metadata": {},
   "source": [
    "## Average days between orders"
   ]
  },
  {
   "cell_type": "code",
   "execution_count": 392,
   "metadata": {},
   "outputs": [
    {
     "data": {
      "image/png": "[encoded data removed]",
      "text/plain": [
       "<Figure size 720x504 with 1 Axes>"
      ]
     },
     "metadata": {
      "needs_background": "light"
     },
     "output_type": "display_data"
    }
   ],
   "source": [
    "from matplotlib import pyplot as plt\n",
    "import numpy as np\n",
    "\n",
    "\n",
    "# Creating dataset\n",
    "a = np.array(df1['AVGDAYSBETWEENORDERS'])\n",
    "\n",
    "# Creating histogram\n",
    "fig, ax = plt.subplots(figsize =(10, 7))\n",
    "ax.hist(a, bins = range(0,78,3),edgecolor='black')\n",
    "\n",
    "plt.title(\"Average spending\")\n",
    "plt.xlabel('\\nspending_per_day\\n', fontsize = 10)\n",
    "plt.ylabel('\\ncount\\n', fontsize = 10)\n",
    "\n",
    "# Show plot\n",
    "plt.show()"
   ]
  },
  {
   "cell_type": "markdown",
   "metadata": {},
   "source": [
    "Most Champion customers order every 15-50 days."
   ]
  },
  {
   "cell_type": "markdown",
   "metadata": {},
   "source": [
    "We can send reminder mails or notifications between 7-15 days, so that he can order even before 15 days has passed."
   ]
  },
  {
   "cell_type": "markdown",
   "metadata": {},
   "source": [
    "## Hour, Day, Week order data"
   ]
  },
  {
   "cell_type": "code",
   "execution_count": 357,
   "metadata": {},
   "outputs": [],
   "source": [
    "cols=df1.columns[8:15]\n",
    "cols1=df1.columns[-10:-6]\n",
    "cols2=df1.columns[22:26]\n",
    "y=[]\n",
    "y1=[]\n",
    "y2=[]\n",
    "for i in cols:\n",
    "    y.append(df1[i].mean())\n",
    "for i in cols1:\n",
    "    y1.append(df1[i].mean())\n",
    "for i in cols2:\n",
    "    y2.append(df1[i].mean())"
   ]
  },
  {
   "cell_type": "code",
   "execution_count": 358,
   "metadata": {},
   "outputs": [
    {
     "name": "stderr",
     "output_type": "stream",
     "text": [
      "C:\\Users\\sasidharreddy\\anaconda77\\lib\\site-packages\\seaborn\\_decorators.py:36: FutureWarning: Pass the following variables as keyword args: x, y. From version 0.12, the only valid positional argument will be `data`, and passing other arguments without an explicit keyword will result in an error or misinterpretation.\n",
      "  warnings.warn(\n",
      "C:\\Users\\sasidharreddy\\anaconda77\\lib\\site-packages\\seaborn\\_decorators.py:36: FutureWarning: Pass the following variables as keyword args: x, y. From version 0.12, the only valid positional argument will be `data`, and passing other arguments without an explicit keyword will result in an error or misinterpretation.\n",
      "  warnings.warn(\n",
      "C:\\Users\\sasidharreddy\\anaconda77\\lib\\site-packages\\seaborn\\_decorators.py:36: FutureWarning: Pass the following variables as keyword args: x, y. From version 0.12, the only valid positional argument will be `data`, and passing other arguments without an explicit keyword will result in an error or misinterpretation.\n",
      "  warnings.warn(\n"
     ]
    },
    {
     "data": {
      "image/png": "[encoded data removed]",
      "text/plain": [
       "<Figure size 1080x504 with 1 Axes>"
      ]
     },
     "metadata": {
      "needs_background": "light"
     },
     "output_type": "display_data"
    },
    {
     "data": {
      "image/png": "[encoded data removed]",
      "text/plain": [
       "<Figure size 1080x360 with 1 Axes>"
      ]
     },
     "metadata": {
      "needs_background": "light"
     },
     "output_type": "display_data"
    },
    {
     "data": {
      "image/png": "[encoded data removed]",
      "text/plain": [
       "<Figure size 1080x504 with 1 Axes>"
      ]
     },
     "metadata": {
      "needs_background": "light"
     },
     "output_type": "display_data"
    }
   ],
   "source": [
    "fig, ax = plt.subplots(1, 1, figsize=(15,7))\n",
    "sns.barplot(cols1,y1)\n",
    "show_values_on_bars(ax)\n",
    "fig, ax = plt.subplots(1, 1, figsize=(15,5))\n",
    "sns.barplot(cols,y)\n",
    "show_values_on_bars(ax)\n",
    "fig, ax = plt.subplots(1, 1, figsize=(15,7))\n",
    "sns.barplot(cols2,y2)\n",
    "show_values_on_bars(ax)"
   ]
  },
  {
   "cell_type": "markdown",
   "metadata": {},
   "source": [
    "Most of the customers in this cluster order 6-18 hrs.\n",
    "Most of the customers in this cluster order during week days.\n",
    "Most of the customers in this cluster order between 2-3 week."
   ]
  },
  {
   "cell_type": "markdown",
   "metadata": {},
   "source": [
    "## POTENTIAL CUSTOMERS"
   ]
  },
  {
   "cell_type": "markdown",
   "metadata": {},
   "source": [
    "# Label: 0"
   ]
  },
  {
   "cell_type": "code",
   "execution_count": 182,
   "metadata": {},
   "outputs": [],
   "source": [
    "df0=df[df['Labels']==0]\n",
    "df3=df[df['Labels']==3]"
   ]
  },
  {
   "cell_type": "markdown",
   "metadata": {},
   "source": [
    "## Average spending per day ??"
   ]
  },
  {
   "cell_type": "code",
   "execution_count": 396,
   "metadata": {},
   "outputs": [
    {
     "data": {
      "image/png": "[encoded data removed]",
      "text/plain": [
       "<Figure size 720x504 with 1 Axes>"
      ]
     },
     "metadata": {
      "needs_background": "light"
     },
     "output_type": "display_data"
    }
   ],
   "source": [
    "c=df0['REVENUE']/df0['No.of.Days']\n",
    "from matplotlib import pyplot as plt\n",
    "import numpy as np\n",
    "\n",
    "\n",
    "# Creating dataset\n",
    "a = np.array(c)\n",
    "\n",
    "# Creating histogram\n",
    "fig, ax = plt.subplots(figsize =(10, 7))\n",
    "ax.hist(a, bins = range(0,50,3),edgecolor='black')\n",
    "\n",
    "plt.title(\"Average spending\")\n",
    "plt.xlabel('\\nspending_per_day\\n', fontsize = 10)\n",
    "plt.ylabel('\\ncount\\n', fontsize = 10)\n",
    "\n",
    "# Show plot\n",
    "plt.show()"
   ]
  },
  {
   "cell_type": "markdown",
   "metadata": {},
   "source": [
    "Most of the Customers spending per day on order around 0-9 rupees "
   ]
  },
  {
   "cell_type": "markdown",
   "metadata": {},
   "source": [
    "## How many orders customer do ??"
   ]
  },
  {
   "cell_type": "code",
   "execution_count": 399,
   "metadata": {},
   "outputs": [
    {
     "data": {
      "image/png": "[encoded data removed]",
      "text/plain": [
       "<Figure size 720x504 with 1 Axes>"
      ]
     },
     "metadata": {
      "needs_background": "light"
     },
     "output_type": "display_data"
    }
   ],
   "source": [
    "from matplotlib import pyplot as plt\n",
    "import numpy as np\n",
    "\n",
    "\n",
    "# Creating dataset\n",
    "a = np.array(df0['TOTAL_ORDERS'])\n",
    "\n",
    "# Creating histogram\n",
    "fig, ax = plt.subplots(figsize =(10, 7))\n",
    "ax.hist(a, bins = range(4,40,4),edgecolor='black')\n",
    "\n",
    "# Show plot\n",
    "plt.show()"
   ]
  },
  {
   "cell_type": "markdown",
   "metadata": {},
   "source": [
    "In the graph, most of the potential customers ordered 8-34 orders till date."
   ]
  },
  {
   "cell_type": "markdown",
   "metadata": {},
   "source": [
    "## Average order value "
   ]
  },
  {
   "cell_type": "code",
   "execution_count": 402,
   "metadata": {},
   "outputs": [
    {
     "data": {
      "image/png": "[encoded data removed]",
      "text/plain": [
       "<Figure size 720x504 with 1 Axes>"
      ]
     },
     "metadata": {
      "needs_background": "light"
     },
     "output_type": "display_data"
    }
   ],
   "source": [
    "from matplotlib import pyplot as plt\n",
    "import numpy as np\n",
    "\n",
    "\n",
    "# Creating dataset\n",
    "a = np.array(df0['AVERAGE_ORDER_VALUE'])\n",
    "\n",
    "# Creating histogram\n",
    "fig, ax = plt.subplots(figsize =(10, 7))\n",
    "ax.hist(a, bins = range(35,860,10),edgecolor='black')\n",
    "\n",
    "# Show plot\n",
    "plt.show()"
   ]
  },
  {
   "cell_type": "markdown",
   "metadata": {},
   "source": [
    "Most Potential Customer's average order value per day lies between 20-250 rupees. "
   ]
  },
  {
   "cell_type": "markdown",
   "metadata": {},
   "source": [
    "We can recommend products that are in the range 20-250 rupees.\n",
    "If order value crosses 250 rupees then we can give additional discount or coupons, so that they can buy more."
   ]
  },
  {
   "cell_type": "markdown",
   "metadata": {},
   "source": [
    "## Average day between orders"
   ]
  },
  {
   "cell_type": "code",
   "execution_count": 405,
   "metadata": {},
   "outputs": [
    {
     "data": {
      "image/png": "[encoded data removed]",
      "text/plain": [
       "<Figure size 720x504 with 1 Axes>"
      ]
     },
     "metadata": {
      "needs_background": "light"
     },
     "output_type": "display_data"
    }
   ],
   "source": [
    "from matplotlib import pyplot as plt\n",
    "import numpy as np\n",
    "\n",
    "\n",
    "# Creating dataset\n",
    "a = np.array(df0['AVGDAYSBETWEENORDERS'])\n",
    "\n",
    "# Creating histogram\n",
    "fig, ax = plt.subplots(figsize =(10, 7))\n",
    "ax.hist(a, bins = range(0,370,10),edgecolor='black')\n",
    "\n",
    "# Show plot\n",
    "plt.show()"
   ]
  },
  {
   "cell_type": "markdown",
   "metadata": {},
   "source": [
    "Most of the customers in this cluster order every 0-180 days"
   ]
  },
  {
   "cell_type": "markdown",
   "metadata": {},
   "source": [
    "We can send reminder mails or notifications between 0-180 days."
   ]
  },
  {
   "cell_type": "markdown",
   "metadata": {},
   "source": [
    "## Hour, Day, Week order data"
   ]
  },
  {
   "cell_type": "code",
   "execution_count": 359,
   "metadata": {},
   "outputs": [],
   "source": [
    "day_order=df0.columns[8:15]\n",
    "time_order=df0.columns[-10:-6]\n",
    "week_order=df0.columns[22:26]\n",
    "y=[]\n",
    "y1=[]\n",
    "y2=[]\n",
    "for i in day_order:\n",
    "    y.append(df0[i].mean())\n",
    "for i in time_order:\n",
    "    y1.append(df0[i].mean())\n",
    "for i in week_order:\n",
    "    y2.append(df0[i].mean())"
   ]
  },
  {
   "cell_type": "code",
   "execution_count": 360,
   "metadata": {},
   "outputs": [
    {
     "name": "stderr",
     "output_type": "stream",
     "text": [
      "C:\\Users\\sasidharreddy\\anaconda77\\lib\\site-packages\\seaborn\\_decorators.py:36: FutureWarning: Pass the following variables as keyword args: x, y. From version 0.12, the only valid positional argument will be `data`, and passing other arguments without an explicit keyword will result in an error or misinterpretation.\n",
      "  warnings.warn(\n",
      "C:\\Users\\sasidharreddy\\anaconda77\\lib\\site-packages\\seaborn\\_decorators.py:36: FutureWarning: Pass the following variables as keyword args: x, y. From version 0.12, the only valid positional argument will be `data`, and passing other arguments without an explicit keyword will result in an error or misinterpretation.\n",
      "  warnings.warn(\n",
      "C:\\Users\\sasidharreddy\\anaconda77\\lib\\site-packages\\seaborn\\_decorators.py:36: FutureWarning: Pass the following variables as keyword args: x, y. From version 0.12, the only valid positional argument will be `data`, and passing other arguments without an explicit keyword will result in an error or misinterpretation.\n",
      "  warnings.warn(\n"
     ]
    },
    {
     "data": {
      "image/png": "[encoded data removed]",
      "text/plain": [
       "<Figure size 1080x360 with 1 Axes>"
      ]
     },
     "metadata": {
      "needs_background": "light"
     },
     "output_type": "display_data"
    },
    {
     "data": {
      "image/png": "[encoded data removed]",
      "text/plain": [
       "<Figure size 1080x360 with 1 Axes>"
      ]
     },
     "metadata": {
      "needs_background": "light"
     },
     "output_type": "display_data"
    },
    {
     "data": {
      "image/png": "[encoded data removed]",
      "text/plain": [
       "<Figure size 1080x360 with 1 Axes>"
      ]
     },
     "metadata": {
      "needs_background": "light"
     },
     "output_type": "display_data"
    }
   ],
   "source": [
    "fig, ax = plt.subplots(1, 1, figsize=(15,5))\n",
    "sns.barplot(time_order,y1)\n",
    "show_values_on_bars(ax)\n",
    "fig, ax = plt.subplots(1, 1, figsize=(15,5))\n",
    "sns.barplot(day_order,y)\n",
    "show_values_on_bars(ax)\n",
    "fig, ax = plt.subplots(1, 1, figsize=(15,5))\n",
    "sns.barplot(week_order,y2)\n",
    "show_values_on_bars(ax)"
   ]
  },
  {
   "cell_type": "markdown",
   "metadata": {},
   "source": [
    "Most of the customers in this cluster order 6-18 hrs.\n",
    "Most of the customers in this cluster order during week days.\n",
    "Most of the customers in this cluster order between 2-4 week."
   ]
  },
  {
   "cell_type": "markdown",
   "metadata": {},
   "source": [
    "#  Label: 3"
   ]
  },
  {
   "cell_type": "markdown",
   "metadata": {},
   "source": [
    "## Average spending per day ??"
   ]
  },
  {
   "cell_type": "code",
   "execution_count": 408,
   "metadata": {},
   "outputs": [
    {
     "data": {
      "image/png": "[encoded data removed]",
      "text/plain": [
       "<Figure size 720x504 with 1 Axes>"
      ]
     },
     "metadata": {
      "needs_background": "light"
     },
     "output_type": "display_data"
    }
   ],
   "source": [
    "c1=df3['REVENUE']/df3['No.of.Days']\n",
    "from matplotlib import pyplot as plt\n",
    "import numpy as np\n",
    "\n",
    "\n",
    "# Creating dataset\n",
    "a = np.array(c1)\n",
    "\n",
    "# Creating histogram\n",
    "fig, ax = plt.subplots(figsize =(10, 7))\n",
    "ax.hist(a, bins = range(0,100,5),edgecolor='black')\n",
    "\n",
    "plt.title(\"Average spending\")\n",
    "plt.xlabel('\\nspending_per_day\\n', fontsize = 10)\n",
    "plt.ylabel('\\ncount\\n', fontsize = 10)\n",
    "\n",
    "# Show plot\n",
    "plt.show()"
   ]
  },
  {
   "cell_type": "markdown",
   "metadata": {},
   "source": [
    "Most of the Customers spending per day on order around 0-15 rupees "
   ]
  },
  {
   "cell_type": "markdown",
   "metadata": {},
   "source": [
    "## How many orders customer do ??"
   ]
  },
  {
   "cell_type": "code",
   "execution_count": 411,
   "metadata": {},
   "outputs": [
    {
     "data": {
      "image/png": "[encoded data removed]",
      "text/plain": [
       "<Figure size 720x504 with 1 Axes>"
      ]
     },
     "metadata": {
      "needs_background": "light"
     },
     "output_type": "display_data"
    }
   ],
   "source": [
    "from matplotlib import pyplot as plt\n",
    "import numpy as np\n",
    "\n",
    "\n",
    "# Creating dataset\n",
    "a = np.array(df3['TOTAL_ORDERS'])\n",
    "\n",
    "# Creating histogram\n",
    "fig, ax = plt.subplots(figsize =(10, 7))\n",
    "ax.hist(a, bins = range(5,80,5),edgecolor='black')\n",
    "\n",
    "# Show plot\n",
    "plt.show()"
   ]
  },
  {
   "cell_type": "markdown",
   "metadata": {},
   "source": [
    "In the graph, most of the potential customers order 20-55 orders till date."
   ]
  },
  {
   "cell_type": "markdown",
   "metadata": {},
   "source": [
    "## Average order value "
   ]
  },
  {
   "cell_type": "code",
   "execution_count": 414,
   "metadata": {},
   "outputs": [
    {
     "data": {
      "image/png": "[encoded data removed]",
      "text/plain": [
       "<Figure size 720x504 with 1 Axes>"
      ]
     },
     "metadata": {
      "needs_background": "light"
     },
     "output_type": "display_data"
    }
   ],
   "source": [
    "from matplotlib import pyplot as plt\n",
    "import numpy as np\n",
    "\n",
    "\n",
    "# Creating dataset\n",
    "a = np.array(df3['AVERAGE_ORDER_VALUE'])\n",
    "\n",
    "# Creating histogram\n",
    "fig, ax = plt.subplots(figsize =(10, 7))\n",
    "ax.hist(a, bins = range(10,1050,10),edgecolor='black')\n",
    "\n",
    "# Show plot\n",
    "plt.show()"
   ]
  },
  {
   "cell_type": "markdown",
   "metadata": {},
   "source": [
    "Most of the customers in this cluster spend 40-250 rupees on each order"
   ]
  },
  {
   "cell_type": "markdown",
   "metadata": {},
   "source": [
    "We can recommend products that are in the range 40-250 rupees.\n",
    "If order value crosses 250 rupees then we can give additional discount or coupons, so that they can buy more."
   ]
  },
  {
   "cell_type": "markdown",
   "metadata": {},
   "source": [
    "## Average day between orders"
   ]
  },
  {
   "cell_type": "code",
   "execution_count": 417,
   "metadata": {},
   "outputs": [
    {
     "data": {
      "image/png": "[encoded data removed]",
      "text/plain": [
       "<Figure size 720x504 with 1 Axes>"
      ]
     },
     "metadata": {
      "needs_background": "light"
     },
     "output_type": "display_data"
    }
   ],
   "source": [
    "from matplotlib import pyplot as plt\n",
    "import numpy as np\n",
    "\n",
    "\n",
    "# Creating dataset\n",
    "a = np.array(df3['AVGDAYSBETWEENORDERS'])\n",
    "\n",
    "# Creating histogram\n",
    "fig, ax = plt.subplots(figsize =(10, 7))\n",
    "ax.hist(a, bins = range(0,210,5),edgecolor='black')\n",
    "\n",
    "# Show plot\n",
    "plt.show()"
   ]
  },
  {
   "cell_type": "markdown",
   "metadata": {},
   "source": [
    "Most of the customers in this cluster order every 10-100 days"
   ]
  },
  {
   "cell_type": "markdown",
   "metadata": {},
   "source": [
    "We can promote ads between 7-100 days."
   ]
  },
  {
   "cell_type": "markdown",
   "metadata": {},
   "source": [
    "## Hour, Day, Week order data"
   ]
  },
  {
   "cell_type": "code",
   "execution_count": 362,
   "metadata": {},
   "outputs": [],
   "source": [
    "day_order=df3.columns[8:15]\n",
    "time_order=df3.columns[-10:-6]\n",
    "week_order=df3.columns[22:26]\n",
    "y=[]\n",
    "y1=[]\n",
    "y2=[]\n",
    "for i in day_order:\n",
    "    y.append(df3[i].mean())\n",
    "for i in time_order:\n",
    "    y1.append(df3[i].mean())\n",
    "for i in week_order:\n",
    "    y2.append(df3[i].mean())"
   ]
  },
  {
   "cell_type": "code",
   "execution_count": 363,
   "metadata": {},
   "outputs": [
    {
     "name": "stderr",
     "output_type": "stream",
     "text": [
      "C:\\Users\\sasidharreddy\\anaconda77\\lib\\site-packages\\seaborn\\_decorators.py:36: FutureWarning: Pass the following variables as keyword args: x, y. From version 0.12, the only valid positional argument will be `data`, and passing other arguments without an explicit keyword will result in an error or misinterpretation.\n",
      "  warnings.warn(\n",
      "C:\\Users\\sasidharreddy\\anaconda77\\lib\\site-packages\\seaborn\\_decorators.py:36: FutureWarning: Pass the following variables as keyword args: x, y. From version 0.12, the only valid positional argument will be `data`, and passing other arguments without an explicit keyword will result in an error or misinterpretation.\n",
      "  warnings.warn(\n",
      "C:\\Users\\sasidharreddy\\anaconda77\\lib\\site-packages\\seaborn\\_decorators.py:36: FutureWarning: Pass the following variables as keyword args: x, y. From version 0.12, the only valid positional argument will be `data`, and passing other arguments without an explicit keyword will result in an error or misinterpretation.\n",
      "  warnings.warn(\n"
     ]
    },
    {
     "data": {
      "image/png": "[encoded data removed]",
      "text/plain": [
       "<Figure size 1080x360 with 1 Axes>"
      ]
     },
     "metadata": {
      "needs_background": "light"
     },
     "output_type": "display_data"
    },
    {
     "data": {
      "image/png": "[encoded data removed]",
      "text/plain": [
       "<Figure size 1080x360 with 1 Axes>"
      ]
     },
     "metadata": {
      "needs_background": "light"
     },
     "output_type": "display_data"
    },
    {
     "data": {
      "image/png": "[encoded data removed]",
      "text/plain": [
       "<Figure size 1080x360 with 1 Axes>"
      ]
     },
     "metadata": {
      "needs_background": "light"
     },
     "output_type": "display_data"
    }
   ],
   "source": [
    "fig, ax = plt.subplots(1, 1, figsize=(15,5))\n",
    "sns.barplot(time_order,y1)\n",
    "show_values_on_bars(ax)\n",
    "fig, ax = plt.subplots(1, 1, figsize=(15,5))\n",
    "sns.barplot(day_order,y)\n",
    "show_values_on_bars(ax)\n",
    "fig, ax = plt.subplots(1, 1, figsize=(15,5))\n",
    "sns.barplot(week_order,y2)\n",
    "show_values_on_bars(ax)"
   ]
  },
  {
   "cell_type": "markdown",
   "metadata": {},
   "source": [
    "Most of the customers in this cluster order 6-18 hrs.\n",
    "Most of the customers in this cluster order during week days.\n",
    "Most of the customers in this cluster order between 2-3 week."
   ]
  },
  {
   "cell_type": "markdown",
   "metadata": {},
   "source": [
    "## Label: 2"
   ]
  },
  {
   "cell_type": "code",
   "execution_count": 463,
   "metadata": {},
   "outputs": [],
   "source": [
    "df2=df[df['Labels']==2]"
   ]
  },
  {
   "cell_type": "markdown",
   "metadata": {},
   "source": [
    "## Average spending per day ??"
   ]
  },
  {
   "cell_type": "code",
   "execution_count": 418,
   "metadata": {},
   "outputs": [
    {
     "data": {
      "image/png": "[encoded data removed]",
      "text/plain": [
       "<Figure size 720x504 with 1 Axes>"
      ]
     },
     "metadata": {
      "needs_background": "light"
     },
     "output_type": "display_data"
    }
   ],
   "source": [
    "c=df2['REVENUE']/df2['No.of.Days']\n",
    "from matplotlib import pyplot as plt\n",
    "import numpy as np\n",
    "\n",
    "\n",
    "# Creating dataset\n",
    "a = np.array(c)\n",
    "\n",
    "# Creating histogram\n",
    "fig, ax = plt.subplots(figsize =(10, 7))\n",
    "ax.hist(a, bins = range(0,50,5),edgecolor='black')\n",
    "\n",
    "plt.title(\"Average spending\")\n",
    "plt.xlabel('\\nspending_per_day\\n', fontsize = 10)\n",
    "plt.ylabel('\\ncount\\n', fontsize = 10)\n",
    "\n",
    "# Show plot\n",
    "plt.show()"
   ]
  },
  {
   "cell_type": "markdown",
   "metadata": {},
   "source": [
    "Most of the Customers spending per day on order around 5 rupees "
   ]
  },
  {
   "cell_type": "markdown",
   "metadata": {},
   "source": [
    "## How many orders customer do ??"
   ]
  },
  {
   "cell_type": "code",
   "execution_count": 422,
   "metadata": {},
   "outputs": [
    {
     "data": {
      "image/png": "[encoded data removed]",
      "text/plain": [
       "<Figure size 720x504 with 1 Axes>"
      ]
     },
     "metadata": {
      "needs_background": "light"
     },
     "output_type": "display_data"
    }
   ],
   "source": [
    "from matplotlib import pyplot as plt\n",
    "import numpy as np\n",
    "\n",
    "\n",
    "# Creating dataset\n",
    "a = np.array(df2['TOTAL_ORDERS'])\n",
    "\n",
    "# Creating histogram\n",
    "fig, ax = plt.subplots(figsize =(10, 7))\n",
    "ax.hist(a, bins = range(0,15),edgecolor='black')\n",
    "\n",
    "# Show plot\n",
    "plt.show()"
   ]
  },
  {
   "cell_type": "markdown",
   "metadata": {},
   "source": [
    "In the graph, most of the potential customers order 0-12 orders in lifetime"
   ]
  },
  {
   "cell_type": "markdown",
   "metadata": {},
   "source": [
    "## Average order value "
   ]
  },
  {
   "cell_type": "code",
   "execution_count": 425,
   "metadata": {},
   "outputs": [
    {
     "data": {
      "image/png": "[encoded data removed]",
      "text/plain": [
       "<Figure size 720x504 with 1 Axes>"
      ]
     },
     "metadata": {
      "needs_background": "light"
     },
     "output_type": "display_data"
    }
   ],
   "source": [
    "from matplotlib import pyplot as plt\n",
    "import numpy as np\n",
    "\n",
    "\n",
    "# Creating dataset\n",
    "a = np.array(df2['AVERAGE_ORDER_VALUE'])\n",
    "\n",
    "# Creating histogram\n",
    "fig, ax = plt.subplots(figsize =(10, 7))\n",
    "ax.hist(a, bins = range(20,1600,20),edgecolor='black')\n",
    "\n",
    "# Show plot\n",
    "plt.show()"
   ]
  },
  {
   "cell_type": "markdown",
   "metadata": {},
   "source": [
    "Most of the customers in this cluster spend 40-240 rupees on each order"
   ]
  },
  {
   "cell_type": "markdown",
   "metadata": {},
   "source": [
    "We can recommend products that are in the range 40-240 rupees.\n",
    "If order value crosses 240 rupees then we can give additional discount or coupons, so that they can buy more."
   ]
  },
  {
   "cell_type": "markdown",
   "metadata": {},
   "source": [
    "## Average day between orders"
   ]
  },
  {
   "cell_type": "code",
   "execution_count": 428,
   "metadata": {},
   "outputs": [
    {
     "data": {
      "image/png": "[encoded data removed]",
      "text/plain": [
       "<Figure size 720x504 with 1 Axes>"
      ]
     },
     "metadata": {
      "needs_background": "light"
     },
     "output_type": "display_data"
    }
   ],
   "source": [
    "from matplotlib import pyplot as plt\n",
    "import numpy as np\n",
    "\n",
    "\n",
    "# Creating dataset\n",
    "a = np.array(df2['AVGDAYSBETWEENORDERS'])\n",
    "\n",
    "# Creating histogram\n",
    "fig, ax = plt.subplots(figsize =(10, 7))\n",
    "ax.hist(a, bins = range(0,510,10),edgecolor='black')\n",
    "\n",
    "# Show plot\n",
    "plt.show()"
   ]
  },
  {
   "cell_type": "markdown",
   "metadata": {},
   "source": [
    "Most of the customers in this cluster order every 0-180 days"
   ]
  },
  {
   "cell_type": "markdown",
   "metadata": {},
   "source": [
    "We can send reminder mails or notifications between 0-180 days."
   ]
  },
  {
   "cell_type": "markdown",
   "metadata": {},
   "source": [
    "## Hour, Day, Week order data"
   ]
  },
  {
   "cell_type": "code",
   "execution_count": 364,
   "metadata": {},
   "outputs": [],
   "source": [
    "day_order=df2.columns[8:15]\n",
    "time_order=df2.columns[-10:-6]\n",
    "week_order=df2.columns[22:26]\n",
    "y=[]\n",
    "y1=[]\n",
    "y2=[]\n",
    "for i in day_order:\n",
    "    y.append(df2[i].mean())\n",
    "for i in time_order:\n",
    "    y1.append(df2[i].mean())\n",
    "for i in week_order:\n",
    "    y2.append(df2[i].mean())"
   ]
  },
  {
   "cell_type": "code",
   "execution_count": 365,
   "metadata": {},
   "outputs": [
    {
     "name": "stderr",
     "output_type": "stream",
     "text": [
      "C:\\Users\\sasidharreddy\\anaconda77\\lib\\site-packages\\seaborn\\_decorators.py:36: FutureWarning: Pass the following variables as keyword args: x, y. From version 0.12, the only valid positional argument will be `data`, and passing other arguments without an explicit keyword will result in an error or misinterpretation.\n",
      "  warnings.warn(\n",
      "C:\\Users\\sasidharreddy\\anaconda77\\lib\\site-packages\\seaborn\\_decorators.py:36: FutureWarning: Pass the following variables as keyword args: x, y. From version 0.12, the only valid positional argument will be `data`, and passing other arguments without an explicit keyword will result in an error or misinterpretation.\n",
      "  warnings.warn(\n",
      "C:\\Users\\sasidharreddy\\anaconda77\\lib\\site-packages\\seaborn\\_decorators.py:36: FutureWarning: Pass the following variables as keyword args: x, y. From version 0.12, the only valid positional argument will be `data`, and passing other arguments without an explicit keyword will result in an error or misinterpretation.\n",
      "  warnings.warn(\n"
     ]
    },
    {
     "data": {
      "image/png": "[encoded data removed]",
      "text/plain": [
       "<Figure size 1080x360 with 1 Axes>"
      ]
     },
     "metadata": {
      "needs_background": "light"
     },
     "output_type": "display_data"
    },
    {
     "data": {
      "image/png": "[encoded data removed]",
      "text/plain": [
       "<Figure size 1080x360 with 1 Axes>"
      ]
     },
     "metadata": {
      "needs_background": "light"
     },
     "output_type": "display_data"
    },
    {
     "data": {
      "image/png": "[encoded data removed]",
      "text/plain": [
       "<Figure size 1080x360 with 1 Axes>"
      ]
     },
     "metadata": {
      "needs_background": "light"
     },
     "output_type": "display_data"
    }
   ],
   "source": [
    "fig, ax = plt.subplots(1, 1, figsize=(15,5))\n",
    "sns.barplot(time_order,y1)\n",
    "show_values_on_bars(ax)\n",
    "fig, ax = plt.subplots(1, 1, figsize=(15,5))\n",
    "sns.barplot(day_order,y)\n",
    "show_values_on_bars(ax)\n",
    "fig, ax = plt.subplots(1, 1, figsize=(15,5))\n",
    "sns.barplot(week_order,y2)\n",
    "show_values_on_bars(ax)"
   ]
  },
  {
   "cell_type": "markdown",
   "metadata": {},
   "source": [
    "Most of the customers in this cluster order 6-18 hrs.\n",
    "Most of the customers in this cluster order during Thursday and Sunday days.\n",
    "Most of the customers in this cluster order in 1st, 4th week."
   ]
  },
  {
   "cell_type": "markdown",
   "metadata": {},
   "source": [
    "## NEED ATTENTION"
   ]
  },
  {
   "cell_type": "code",
   "execution_count": 465,
   "metadata": {},
   "outputs": [],
   "source": [
    "df4=df[df['Labels']==4]"
   ]
  },
  {
   "cell_type": "markdown",
   "metadata": {},
   "source": [
    "## Label: 4"
   ]
  },
  {
   "cell_type": "markdown",
   "metadata": {},
   "source": [
    "## Average spending per day ??"
   ]
  },
  {
   "cell_type": "code",
   "execution_count": 449,
   "metadata": {},
   "outputs": [
    {
     "data": {
      "image/png": "[encoded data removed]",
      "text/plain": [
       "<Figure size 720x504 with 1 Axes>"
      ]
     },
     "metadata": {
      "needs_background": "light"
     },
     "output_type": "display_data"
    }
   ],
   "source": [
    "c1=df4['REVENUE']/df4['No.of.Days']\n",
    "from matplotlib import pyplot as plt\n",
    "import numpy as np\n",
    "\n",
    "\n",
    "# Creating dataset\n",
    "a = np.array(c1)\n",
    "\n",
    "# Creating histogram\n",
    "fig, ax = plt.subplots(figsize =(10, 7))\n",
    "ax.hist(a, bins = range(0,2,1),edgecolor='black')\n",
    "\n",
    "plt.title(\"Average spending\")\n",
    "plt.xlabel('\\nspending_per_day\\n', fontsize = 10)\n",
    "plt.ylabel('\\ncount\\n', fontsize = 10)\n",
    "\n",
    "# Show plot\n",
    "plt.show()"
   ]
  },
  {
   "cell_type": "markdown",
   "metadata": {},
   "source": [
    "Most of the Customers spending per day on order around 1 rupee "
   ]
  },
  {
   "cell_type": "markdown",
   "metadata": {},
   "source": [
    "## How many orders customer do ??"
   ]
  },
  {
   "cell_type": "code",
   "execution_count": 437,
   "metadata": {},
   "outputs": [
    {
     "data": {
      "image/png": "[encoded data removed]",
      "text/plain": [
       "<Figure size 720x504 with 1 Axes>"
      ]
     },
     "metadata": {
      "needs_background": "light"
     },
     "output_type": "display_data"
    }
   ],
   "source": [
    "from matplotlib import pyplot as plt\n",
    "import numpy as np\n",
    "\n",
    "\n",
    "# Creating dataset\n",
    "a = np.array(df4['TOTAL_ORDERS'])\n",
    "\n",
    "# Creating histogram\n",
    "fig, ax = plt.subplots(figsize =(10, 7))\n",
    "ax.hist(a, bins = range(0,18,2),edgecolor='black')\n",
    "\n",
    "# Show plot\n",
    "plt.show()"
   ]
  },
  {
   "cell_type": "markdown",
   "metadata": {},
   "source": [
    "In the graph, most of the customers order 2-14 orders till date."
   ]
  },
  {
   "cell_type": "markdown",
   "metadata": {},
   "source": [
    "## Average order value "
   ]
  },
  {
   "cell_type": "code",
   "execution_count": 440,
   "metadata": {},
   "outputs": [
    {
     "data": {
      "image/png": "[encoded data removed]",
      "text/plain": [
       "<Figure size 720x504 with 1 Axes>"
      ]
     },
     "metadata": {
      "needs_background": "light"
     },
     "output_type": "display_data"
    }
   ],
   "source": [
    "from matplotlib import pyplot as plt\n",
    "import numpy as np\n",
    "\n",
    "\n",
    "# Creating dataset\n",
    "a = np.array(df4['AVERAGE_ORDER_VALUE'])\n",
    "\n",
    "# Creating histogram\n",
    "fig, ax = plt.subplots(figsize =(10, 7))\n",
    "ax.hist(a, bins = range(10,470,10),edgecolor='black')\n",
    "\n",
    "# Show plot\n",
    "plt.show()"
   ]
  },
  {
   "cell_type": "markdown",
   "metadata": {},
   "source": [
    "Most of the customers in this cluster spend 50-200 rupees on each order"
   ]
  },
  {
   "cell_type": "markdown",
   "metadata": {},
   "source": [
    "We can recommend products that are in the range 50-200 rupees.\n",
    "If order value crosses 200 rupees then we can give additional discount or coupons, so that they can buy more."
   ]
  },
  {
   "cell_type": "markdown",
   "metadata": {},
   "source": [
    "## Average day between orders"
   ]
  },
  {
   "cell_type": "code",
   "execution_count": 443,
   "metadata": {},
   "outputs": [
    {
     "data": {
      "image/png": "[encoded data removed]",
      "text/plain": [
       "<Figure size 720x504 with 1 Axes>"
      ]
     },
     "metadata": {
      "needs_background": "light"
     },
     "output_type": "display_data"
    }
   ],
   "source": [
    "from matplotlib import pyplot as plt\n",
    "import numpy as np\n",
    "\n",
    "\n",
    "# Creating dataset\n",
    "a = np.array(df4['AVGDAYSBETWEENORDERS'])\n",
    "\n",
    "# Creating histogram\n",
    "fig, ax = plt.subplots(figsize =(10, 7))\n",
    "ax.hist(a, bins = range(135,1410,10),edgecolor='black')\n",
    "\n",
    "# Show plot\n",
    "plt.show()"
   ]
  },
  {
   "cell_type": "markdown",
   "metadata": {},
   "source": [
    "Most of the customers in this cluster order every 150-1250 days"
   ]
  },
  {
   "cell_type": "markdown",
   "metadata": {},
   "source": [
    "We can send reminder mails or notifications between 150-1250 days."
   ]
  },
  {
   "cell_type": "markdown",
   "metadata": {},
   "source": [
    "## Hour, Day, Week order data"
   ]
  },
  {
   "cell_type": "code",
   "execution_count": 366,
   "metadata": {},
   "outputs": [],
   "source": [
    "day_order=df4.columns[8:15]\n",
    "time_order=df4.columns[-10:-6]\n",
    "week_order=df4.columns[22:26]\n",
    "y=[]\n",
    "y1=[]\n",
    "y2=[]\n",
    "for i in day_order:\n",
    "    y.append(df4[i].mean())\n",
    "for i in time_order:\n",
    "    y1.append(df4[i].mean())\n",
    "for i in week_order:\n",
    "    y2.append(df4[i].mean())"
   ]
  },
  {
   "cell_type": "code",
   "execution_count": 367,
   "metadata": {},
   "outputs": [
    {
     "name": "stderr",
     "output_type": "stream",
     "text": [
      "C:\\Users\\sasidharreddy\\anaconda77\\lib\\site-packages\\seaborn\\_decorators.py:36: FutureWarning: Pass the following variables as keyword args: x, y. From version 0.12, the only valid positional argument will be `data`, and passing other arguments without an explicit keyword will result in an error or misinterpretation.\n",
      "  warnings.warn(\n",
      "C:\\Users\\sasidharreddy\\anaconda77\\lib\\site-packages\\seaborn\\_decorators.py:36: FutureWarning: Pass the following variables as keyword args: x, y. From version 0.12, the only valid positional argument will be `data`, and passing other arguments without an explicit keyword will result in an error or misinterpretation.\n",
      "  warnings.warn(\n",
      "C:\\Users\\sasidharreddy\\anaconda77\\lib\\site-packages\\seaborn\\_decorators.py:36: FutureWarning: Pass the following variables as keyword args: x, y. From version 0.12, the only valid positional argument will be `data`, and passing other arguments without an explicit keyword will result in an error or misinterpretation.\n",
      "  warnings.warn(\n"
     ]
    },
    {
     "data": {
      "image/png": "[encoded data removed]",
      "text/plain": [
       "<Figure size 1080x360 with 1 Axes>"
      ]
     },
     "metadata": {
      "needs_background": "light"
     },
     "output_type": "display_data"
    },
    {
     "data": {
      "image/png": "[encoded data removed]",
      "text/plain": [
       "<Figure size 1080x360 with 1 Axes>"
      ]
     },
     "metadata": {
      "needs_background": "light"
     },
     "output_type": "display_data"
    },
    {
     "data": {
      "image/png": "[encoded data removed]",
      "text/plain": [
       "<Figure size 1080x360 with 1 Axes>"
      ]
     },
     "metadata": {
      "needs_background": "light"
     },
     "output_type": "display_data"
    }
   ],
   "source": [
    "fig, ax = plt.subplots(1, 1, figsize=(15,5))\n",
    "sns.barplot(time_order,y1)\n",
    "show_values_on_bars(ax)\n",
    "fig, ax = plt.subplots(1, 1, figsize=(15,5))\n",
    "sns.barplot(day_order,y)\n",
    "show_values_on_bars(ax)\n",
    "fig, ax = plt.subplots(1, 1, figsize=(15,5))\n",
    "sns.barplot(week_order,y2)\n",
    "show_values_on_bars(ax)"
   ]
  },
  {
   "cell_type": "markdown",
   "metadata": {},
   "source": [
    "Most of the customers in this cluster order 6-24 hrs.\n",
    "Count is evenly distributed among all days.\n",
    "Here we can see increasing trend in orders as week passes by."
   ]
  },
  {
   "cell_type": "markdown",
   "metadata": {},
   "source": [
    "# Observations"
   ]
  },
  {
   "cell_type": "markdown",
   "metadata": {},
   "source": [
    "Label 4 - Need Attention\n",
    "\n",
    "Label 0, 2, 3 - Potential Customers\n",
    "\n",
    "Label 1 - Champions"
   ]
  },
  {
   "cell_type": "markdown",
   "metadata": {},
   "source": [
    "Label 4 customers need attention. Average days between orders is very high(510 days). There revenue, total orders are also low. Most customers last order was 3 months back. On an average each customer spends 50-200 rupees per order."
   ]
  },
  {
   "cell_type": "markdown",
   "metadata": {},
   "source": [
    "On average Label 0 customers place 20 orders. Most of the customers last order was 2 months back. Average days between order is 61 days.Most customers placed 8-34 orders till date. Spending per day is 0-9 rupees. On average each customer spending 20-250 rupees on each order. "
   ]
  },
  {
   "cell_type": "markdown",
   "metadata": {},
   "source": [
    "Label 2 customers has least average revenue and total orders. But, they have good average days between orders value. Most of the customer's are inactive since 3-4 months. Label 2 budget is low(average spending per day is just 0-5 rupees)"
   ]
  },
  {
   "cell_type": "markdown",
   "metadata": {},
   "source": [
    "Label 3 has good ratio between average revenue and total orders. Average days between order is 39 days. Most customers last order was 2 months back. On average customers spending 40-250 rupees on each order. Spending per day is 0-15 rupees. Till date most customers placed 20-55 orders. They will buy new products every 10-180 days"
   ]
  },
  {
   "cell_type": "markdown",
   "metadata": {},
   "source": [
    "Label 1 customers are champion's. Their average revenue and total oreders are very high.  Every customer spend 3-15 rupees per day. Most customer's last order was 1 month back. They will place new order every 15-50 days. Average spending per order is around 0-400 rupees. Till date most customers placed 30-90 orders."
   ]
  },
  {
   "cell_type": "markdown",
   "metadata": {},
   "source": [
    "## What sort of  segmentation is best fit for this data?"
   ]
  },
  {
   "cell_type": "markdown",
   "metadata": {},
   "source": [
    "K-Means Clustering is an unsupervised learning algorithm that is used to solve the clustering problems in machine learning or data science.It is the best unsupervised algorithm in ML. It divides the given data points into various clusters. It is a centroid-based algorithm, where each cluster is associated with a centroid. The main aim of this algorithm is to minimize the sum of distances between the data point and their corresponding clusters. "
   ]
  },
  {
   "cell_type": "markdown",
   "metadata": {},
   "source": [
    "It is a popular algorithm for this type of data. It can easily divide data into multiple clusters."
   ]
  }
 ],
 "metadata": {
  "kernelspec": {
   "display_name": "Python 3",
   "language": "python",
   "name": "python3"
  },
  "language_info": {
   "codemirror_mode": {
    "name": "ipython",
    "version": 3
   },
   "file_extension": ".py",
   "mimetype": "text/x-python",
   "name": "python",
   "nbconvert_exporter": "python",
   "pygments_lexer": "ipython3",
   "version": "3.8.5"
  }
 },
 "nbformat": 4,
 "nbformat_minor": 4
}
