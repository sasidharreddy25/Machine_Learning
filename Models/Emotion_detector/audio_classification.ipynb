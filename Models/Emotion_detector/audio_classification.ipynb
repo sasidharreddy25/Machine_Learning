{
 "cells": [
  {
   "cell_type": "code",
   "execution_count": 1,
   "metadata": {},
   "outputs": [],
   "source": [
    "import numpy as np\n",
    "import pandas as pd"
   ]
  },
  {
   "cell_type": "code",
   "execution_count": 2,
   "metadata": {},
   "outputs": [],
   "source": [
    "import matplotlib.pyplot as plt\n",
    "import seaborn as sns"
   ]
  },
  {
   "cell_type": "code",
   "execution_count": 57,
   "metadata": {},
   "outputs": [],
   "source": [
    "from sklearn.naive_bayes import GaussianNB\n",
    "from sklearn.ensemble import RandomForestClassifier\n",
    "from sklearn import tree\n",
    "from sklearn.metrics import confusion_matrix\n",
    "from sklearn.metrics import accuracy_score, f1_score\n",
    "from sklearn.metrics import classification_report\n",
    "import nltk\n",
    "from sklearn.feature_extraction.text import CountVectorizer\n",
    "from nltk.stem.porter import PorterStemmer\n",
    "from nltk.stem import WordNetLemmatizer"
   ]
  },
  {
   "cell_type": "code",
   "execution_count": 4,
   "metadata": {},
   "outputs": [],
   "source": [
    "data=pd.read_csv('tonefeatures.csv')"
   ]
  },
  {
   "cell_type": "code",
   "execution_count": 6,
   "metadata": {},
   "outputs": [],
   "source": [
    "data.drop(columns=['Unnamed: 0'], inplace=True)"
   ]
  },
  {
   "cell_type": "code",
   "execution_count": 181,
   "metadata": {},
   "outputs": [
    {
     "data": {
      "text/plain": [
       "0           0\n",
       "1           0\n",
       "2           0\n",
       "3           0\n",
       "4           0\n",
       "           ..\n",
       "190         0\n",
       "191         0\n",
       "192         0\n",
       "filename    0\n",
       "emotion     0\n",
       "Length: 195, dtype: int64"
      ]
     },
     "execution_count": 181,
     "metadata": {},
     "output_type": "execute_result"
    }
   ],
   "source": [
    "data.isna().sum()"
   ]
  },
  {
   "cell_type": "code",
   "execution_count": 193,
   "metadata": {},
   "outputs": [
    {
     "data": {
      "text/plain": [
       "array([0, 1, 2], dtype=int64)"
      ]
     },
     "execution_count": 193,
     "metadata": {},
     "output_type": "execute_result"
    }
   ],
   "source": [
    "data['emotion'].unique()"
   ]
  },
  {
   "cell_type": "markdown",
   "metadata": {},
   "source": [
    "- 0 - Angry\n",
    "- 1 - Happy\n",
    "- 2 - Neutral"
   ]
  },
  {
   "cell_type": "code",
   "execution_count": 7,
   "metadata": {},
   "outputs": [
    {
     "data": {
      "text/plain": [
       "Index(['0', '1', '2', '3', '4', '5', '6', '7', '8', '9',\n",
       "       ...\n",
       "       '185', '186', '187', '188', '189', '190', '191', '192', 'filename',\n",
       "       'emotion'],\n",
       "      dtype='object', length=195)"
      ]
     },
     "execution_count": 7,
     "metadata": {},
     "output_type": "execute_result"
    }
   ],
   "source": [
    "data.columns"
   ]
  },
  {
   "cell_type": "code",
   "execution_count": 11,
   "metadata": {},
   "outputs": [],
   "source": [
    "x=data.iloc[:, :-2]"
   ]
  },
  {
   "cell_type": "code",
   "execution_count": 12,
   "metadata": {},
   "outputs": [
    {
     "data": {
      "text/html": [
       "<div>\n",
       "<style scoped>\n",
       "    .dataframe tbody tr th:only-of-type {\n",
       "        vertical-align: middle;\n",
       "    }\n",
       "\n",
       "    .dataframe tbody tr th {\n",
       "        vertical-align: top;\n",
       "    }\n",
       "\n",
       "    .dataframe thead th {\n",
       "        text-align: right;\n",
       "    }\n",
       "</style>\n",
       "<table border=\"1\" class=\"dataframe\">\n",
       "  <thead>\n",
       "    <tr style=\"text-align: right;\">\n",
       "      <th></th>\n",
       "      <th>0</th>\n",
       "      <th>1</th>\n",
       "      <th>2</th>\n",
       "      <th>3</th>\n",
       "      <th>4</th>\n",
       "      <th>5</th>\n",
       "      <th>6</th>\n",
       "      <th>7</th>\n",
       "      <th>8</th>\n",
       "      <th>9</th>\n",
       "      <th>...</th>\n",
       "      <th>183</th>\n",
       "      <th>184</th>\n",
       "      <th>185</th>\n",
       "      <th>186</th>\n",
       "      <th>187</th>\n",
       "      <th>188</th>\n",
       "      <th>189</th>\n",
       "      <th>190</th>\n",
       "      <th>191</th>\n",
       "      <th>192</th>\n",
       "    </tr>\n",
       "  </thead>\n",
       "  <tbody>\n",
       "    <tr>\n",
       "      <th>0</th>\n",
       "      <td>-362.178650</td>\n",
       "      <td>51.840282</td>\n",
       "      <td>-9.163033</td>\n",
       "      <td>-4.569726</td>\n",
       "      <td>-23.685537</td>\n",
       "      <td>-13.479961</td>\n",
       "      <td>-25.807158</td>\n",
       "      <td>-26.647701</td>\n",
       "      <td>-7.463329</td>\n",
       "      <td>-11.896194</td>\n",
       "      <td>...</td>\n",
       "      <td>18.136103</td>\n",
       "      <td>20.077784</td>\n",
       "      <td>20.385352</td>\n",
       "      <td>18.122124</td>\n",
       "      <td>-0.071096</td>\n",
       "      <td>0.066485</td>\n",
       "      <td>-0.059767</td>\n",
       "      <td>-0.059344</td>\n",
       "      <td>-0.002053</td>\n",
       "      <td>-0.019336</td>\n",
       "    </tr>\n",
       "    <tr>\n",
       "      <th>1</th>\n",
       "      <td>-369.353302</td>\n",
       "      <td>67.468735</td>\n",
       "      <td>-27.183916</td>\n",
       "      <td>-0.076357</td>\n",
       "      <td>-25.877598</td>\n",
       "      <td>-4.241893</td>\n",
       "      <td>-28.140839</td>\n",
       "      <td>-15.293054</td>\n",
       "      <td>-8.937371</td>\n",
       "      <td>-9.184803</td>\n",
       "      <td>...</td>\n",
       "      <td>17.814922</td>\n",
       "      <td>20.326579</td>\n",
       "      <td>21.207642</td>\n",
       "      <td>15.367152</td>\n",
       "      <td>-0.087130</td>\n",
       "      <td>0.033201</td>\n",
       "      <td>-0.043594</td>\n",
       "      <td>0.022541</td>\n",
       "      <td>0.039449</td>\n",
       "      <td>0.010449</td>\n",
       "    </tr>\n",
       "    <tr>\n",
       "      <th>2</th>\n",
       "      <td>-272.639191</td>\n",
       "      <td>40.707626</td>\n",
       "      <td>-44.584564</td>\n",
       "      <td>1.511746</td>\n",
       "      <td>-40.422577</td>\n",
       "      <td>1.439200</td>\n",
       "      <td>-29.428658</td>\n",
       "      <td>-9.685961</td>\n",
       "      <td>-10.340800</td>\n",
       "      <td>-6.675869</td>\n",
       "      <td>...</td>\n",
       "      <td>20.232293</td>\n",
       "      <td>21.653073</td>\n",
       "      <td>22.173518</td>\n",
       "      <td>16.887871</td>\n",
       "      <td>-0.091339</td>\n",
       "      <td>0.069317</td>\n",
       "      <td>-0.012818</td>\n",
       "      <td>0.057457</td>\n",
       "      <td>0.012763</td>\n",
       "      <td>0.002862</td>\n",
       "    </tr>\n",
       "    <tr>\n",
       "      <th>3</th>\n",
       "      <td>-277.182617</td>\n",
       "      <td>49.406696</td>\n",
       "      <td>-14.841278</td>\n",
       "      <td>3.800424</td>\n",
       "      <td>-32.907993</td>\n",
       "      <td>-12.646439</td>\n",
       "      <td>-17.743742</td>\n",
       "      <td>-25.257486</td>\n",
       "      <td>0.359641</td>\n",
       "      <td>-16.039488</td>\n",
       "      <td>...</td>\n",
       "      <td>18.857684</td>\n",
       "      <td>19.493744</td>\n",
       "      <td>22.398635</td>\n",
       "      <td>18.026824</td>\n",
       "      <td>-0.080072</td>\n",
       "      <td>0.077678</td>\n",
       "      <td>-0.069420</td>\n",
       "      <td>0.007048</td>\n",
       "      <td>-0.007893</td>\n",
       "      <td>0.034441</td>\n",
       "    </tr>\n",
       "    <tr>\n",
       "      <th>4</th>\n",
       "      <td>-431.922974</td>\n",
       "      <td>72.294571</td>\n",
       "      <td>-7.482696</td>\n",
       "      <td>4.797265</td>\n",
       "      <td>-14.267258</td>\n",
       "      <td>-18.409849</td>\n",
       "      <td>-14.604823</td>\n",
       "      <td>-22.634396</td>\n",
       "      <td>-14.172668</td>\n",
       "      <td>-3.713399</td>\n",
       "      <td>...</td>\n",
       "      <td>20.451589</td>\n",
       "      <td>19.889773</td>\n",
       "      <td>18.372376</td>\n",
       "      <td>17.797173</td>\n",
       "      <td>-0.092939</td>\n",
       "      <td>0.042052</td>\n",
       "      <td>0.000845</td>\n",
       "      <td>0.062182</td>\n",
       "      <td>-0.012066</td>\n",
       "      <td>0.027789</td>\n",
       "    </tr>\n",
       "    <tr>\n",
       "      <th>...</th>\n",
       "      <td>...</td>\n",
       "      <td>...</td>\n",
       "      <td>...</td>\n",
       "      <td>...</td>\n",
       "      <td>...</td>\n",
       "      <td>...</td>\n",
       "      <td>...</td>\n",
       "      <td>...</td>\n",
       "      <td>...</td>\n",
       "      <td>...</td>\n",
       "      <td>...</td>\n",
       "      <td>...</td>\n",
       "      <td>...</td>\n",
       "      <td>...</td>\n",
       "      <td>...</td>\n",
       "      <td>...</td>\n",
       "      <td>...</td>\n",
       "      <td>...</td>\n",
       "      <td>...</td>\n",
       "      <td>...</td>\n",
       "      <td>...</td>\n",
       "    </tr>\n",
       "    <tr>\n",
       "      <th>475</th>\n",
       "      <td>-287.191284</td>\n",
       "      <td>40.243397</td>\n",
       "      <td>-20.626751</td>\n",
       "      <td>-6.634976</td>\n",
       "      <td>-17.782164</td>\n",
       "      <td>-11.476772</td>\n",
       "      <td>-33.051083</td>\n",
       "      <td>-9.026605</td>\n",
       "      <td>-28.645454</td>\n",
       "      <td>5.962501</td>\n",
       "      <td>...</td>\n",
       "      <td>22.468761</td>\n",
       "      <td>21.531359</td>\n",
       "      <td>19.836499</td>\n",
       "      <td>19.675559</td>\n",
       "      <td>-0.020596</td>\n",
       "      <td>-0.016717</td>\n",
       "      <td>0.022708</td>\n",
       "      <td>0.018926</td>\n",
       "      <td>0.009988</td>\n",
       "      <td>0.000936</td>\n",
       "    </tr>\n",
       "    <tr>\n",
       "      <th>476</th>\n",
       "      <td>-394.443359</td>\n",
       "      <td>74.219337</td>\n",
       "      <td>-7.859561</td>\n",
       "      <td>-1.567598</td>\n",
       "      <td>-1.895446</td>\n",
       "      <td>-18.160212</td>\n",
       "      <td>-37.835201</td>\n",
       "      <td>-6.610986</td>\n",
       "      <td>-29.918142</td>\n",
       "      <td>1.385970</td>\n",
       "      <td>...</td>\n",
       "      <td>18.091578</td>\n",
       "      <td>20.259969</td>\n",
       "      <td>19.055505</td>\n",
       "      <td>18.554703</td>\n",
       "      <td>0.036212</td>\n",
       "      <td>0.002094</td>\n",
       "      <td>-0.022020</td>\n",
       "      <td>-0.054824</td>\n",
       "      <td>0.002721</td>\n",
       "      <td>0.004270</td>\n",
       "    </tr>\n",
       "    <tr>\n",
       "      <th>477</th>\n",
       "      <td>-370.206482</td>\n",
       "      <td>98.094948</td>\n",
       "      <td>-2.903198</td>\n",
       "      <td>19.312656</td>\n",
       "      <td>-6.085757</td>\n",
       "      <td>2.078325</td>\n",
       "      <td>-16.275841</td>\n",
       "      <td>-22.105843</td>\n",
       "      <td>-5.925846</td>\n",
       "      <td>-8.486907</td>\n",
       "      <td>...</td>\n",
       "      <td>17.501112</td>\n",
       "      <td>18.097316</td>\n",
       "      <td>19.228032</td>\n",
       "      <td>17.623237</td>\n",
       "      <td>0.015506</td>\n",
       "      <td>0.008117</td>\n",
       "      <td>-0.016329</td>\n",
       "      <td>-0.018738</td>\n",
       "      <td>0.012136</td>\n",
       "      <td>-0.019905</td>\n",
       "    </tr>\n",
       "    <tr>\n",
       "      <th>478</th>\n",
       "      <td>-305.993866</td>\n",
       "      <td>74.150970</td>\n",
       "      <td>-29.986952</td>\n",
       "      <td>2.176168</td>\n",
       "      <td>-17.734907</td>\n",
       "      <td>-24.256847</td>\n",
       "      <td>-16.643675</td>\n",
       "      <td>-31.813841</td>\n",
       "      <td>-23.605103</td>\n",
       "      <td>-2.650015</td>\n",
       "      <td>...</td>\n",
       "      <td>19.336949</td>\n",
       "      <td>19.388053</td>\n",
       "      <td>21.841570</td>\n",
       "      <td>16.055272</td>\n",
       "      <td>-0.022861</td>\n",
       "      <td>-0.002166</td>\n",
       "      <td>-0.058052</td>\n",
       "      <td>0.003854</td>\n",
       "      <td>0.005828</td>\n",
       "      <td>0.008293</td>\n",
       "    </tr>\n",
       "    <tr>\n",
       "      <th>479</th>\n",
       "      <td>-362.074982</td>\n",
       "      <td>82.748611</td>\n",
       "      <td>-28.700089</td>\n",
       "      <td>9.545540</td>\n",
       "      <td>-7.322521</td>\n",
       "      <td>-16.621052</td>\n",
       "      <td>-17.855162</td>\n",
       "      <td>-24.915983</td>\n",
       "      <td>-17.591969</td>\n",
       "      <td>-5.284453</td>\n",
       "      <td>...</td>\n",
       "      <td>19.789086</td>\n",
       "      <td>19.058073</td>\n",
       "      <td>20.671966</td>\n",
       "      <td>16.211653</td>\n",
       "      <td>-0.093752</td>\n",
       "      <td>0.000623</td>\n",
       "      <td>0.014252</td>\n",
       "      <td>-0.006135</td>\n",
       "      <td>0.007010</td>\n",
       "      <td>0.037933</td>\n",
       "    </tr>\n",
       "  </tbody>\n",
       "</table>\n",
       "<p>480 rows × 193 columns</p>\n",
       "</div>"
      ],
      "text/plain": [
       "              0          1          2          3          4          5  \\\n",
       "0   -362.178650  51.840282  -9.163033  -4.569726 -23.685537 -13.479961   \n",
       "1   -369.353302  67.468735 -27.183916  -0.076357 -25.877598  -4.241893   \n",
       "2   -272.639191  40.707626 -44.584564   1.511746 -40.422577   1.439200   \n",
       "3   -277.182617  49.406696 -14.841278   3.800424 -32.907993 -12.646439   \n",
       "4   -431.922974  72.294571  -7.482696   4.797265 -14.267258 -18.409849   \n",
       "..          ...        ...        ...        ...        ...        ...   \n",
       "475 -287.191284  40.243397 -20.626751  -6.634976 -17.782164 -11.476772   \n",
       "476 -394.443359  74.219337  -7.859561  -1.567598  -1.895446 -18.160212   \n",
       "477 -370.206482  98.094948  -2.903198  19.312656  -6.085757   2.078325   \n",
       "478 -305.993866  74.150970 -29.986952   2.176168 -17.734907 -24.256847   \n",
       "479 -362.074982  82.748611 -28.700089   9.545540  -7.322521 -16.621052   \n",
       "\n",
       "             6          7          8          9  ...        183        184  \\\n",
       "0   -25.807158 -26.647701  -7.463329 -11.896194  ...  18.136103  20.077784   \n",
       "1   -28.140839 -15.293054  -8.937371  -9.184803  ...  17.814922  20.326579   \n",
       "2   -29.428658  -9.685961 -10.340800  -6.675869  ...  20.232293  21.653073   \n",
       "3   -17.743742 -25.257486   0.359641 -16.039488  ...  18.857684  19.493744   \n",
       "4   -14.604823 -22.634396 -14.172668  -3.713399  ...  20.451589  19.889773   \n",
       "..         ...        ...        ...        ...  ...        ...        ...   \n",
       "475 -33.051083  -9.026605 -28.645454   5.962501  ...  22.468761  21.531359   \n",
       "476 -37.835201  -6.610986 -29.918142   1.385970  ...  18.091578  20.259969   \n",
       "477 -16.275841 -22.105843  -5.925846  -8.486907  ...  17.501112  18.097316   \n",
       "478 -16.643675 -31.813841 -23.605103  -2.650015  ...  19.336949  19.388053   \n",
       "479 -17.855162 -24.915983 -17.591969  -5.284453  ...  19.789086  19.058073   \n",
       "\n",
       "           185        186       187       188       189       190       191  \\\n",
       "0    20.385352  18.122124 -0.071096  0.066485 -0.059767 -0.059344 -0.002053   \n",
       "1    21.207642  15.367152 -0.087130  0.033201 -0.043594  0.022541  0.039449   \n",
       "2    22.173518  16.887871 -0.091339  0.069317 -0.012818  0.057457  0.012763   \n",
       "3    22.398635  18.026824 -0.080072  0.077678 -0.069420  0.007048 -0.007893   \n",
       "4    18.372376  17.797173 -0.092939  0.042052  0.000845  0.062182 -0.012066   \n",
       "..         ...        ...       ...       ...       ...       ...       ...   \n",
       "475  19.836499  19.675559 -0.020596 -0.016717  0.022708  0.018926  0.009988   \n",
       "476  19.055505  18.554703  0.036212  0.002094 -0.022020 -0.054824  0.002721   \n",
       "477  19.228032  17.623237  0.015506  0.008117 -0.016329 -0.018738  0.012136   \n",
       "478  21.841570  16.055272 -0.022861 -0.002166 -0.058052  0.003854  0.005828   \n",
       "479  20.671966  16.211653 -0.093752  0.000623  0.014252 -0.006135  0.007010   \n",
       "\n",
       "          192  \n",
       "0   -0.019336  \n",
       "1    0.010449  \n",
       "2    0.002862  \n",
       "3    0.034441  \n",
       "4    0.027789  \n",
       "..        ...  \n",
       "475  0.000936  \n",
       "476  0.004270  \n",
       "477 -0.019905  \n",
       "478  0.008293  \n",
       "479  0.037933  \n",
       "\n",
       "[480 rows x 193 columns]"
      ]
     },
     "execution_count": 12,
     "metadata": {},
     "output_type": "execute_result"
    }
   ],
   "source": [
    "x"
   ]
  },
  {
   "cell_type": "code",
   "execution_count": 13,
   "metadata": {},
   "outputs": [],
   "source": [
    "x=np.array(x.values.tolist())"
   ]
  },
  {
   "cell_type": "code",
   "execution_count": 14,
   "metadata": {},
   "outputs": [],
   "source": [
    "y=np.array(data['emotion'])"
   ]
  },
  {
   "cell_type": "code",
   "execution_count": 15,
   "metadata": {},
   "outputs": [],
   "source": [
    "# Splitting the dataset into the Training set and Test set\n",
    "from sklearn.model_selection import train_test_split\n",
    "X_train, X_test, y_train, y_test = train_test_split(x, y, test_size = 0.25, random_state =0)"
   ]
  },
  {
   "cell_type": "code",
   "execution_count": 61,
   "metadata": {},
   "outputs": [],
   "source": [
    "from sklearn.svm import SVC"
   ]
  },
  {
   "cell_type": "code",
   "execution_count": 187,
   "metadata": {},
   "outputs": [],
   "source": [
    "c=SVC(kernel=\"rbf\", gamma=0.001, C=4)"
   ]
  },
  {
   "cell_type": "code",
   "execution_count": 188,
   "metadata": {},
   "outputs": [
    {
     "data": {
      "text/plain": [
       "SVC(C=4, gamma=0.001)"
      ]
     },
     "execution_count": 188,
     "metadata": {},
     "output_type": "execute_result"
    }
   ],
   "source": [
    "#predicting the emotion using svc\n",
    "c.fit(X_train,y_train)"
   ]
  },
  {
   "cell_type": "code",
   "execution_count": 189,
   "metadata": {},
   "outputs": [],
   "source": [
    "pred=c.predict(X_test)"
   ]
  },
  {
   "cell_type": "code",
   "execution_count": 190,
   "metadata": {},
   "outputs": [],
   "source": [
    "score=accuracy_score(pred, y_test)"
   ]
  },
  {
   "cell_type": "code",
   "execution_count": 191,
   "metadata": {},
   "outputs": [
    {
     "data": {
      "text/plain": [
       "0.9"
      ]
     },
     "execution_count": 191,
     "metadata": {},
     "output_type": "execute_result"
    }
   ],
   "source": [
    "score"
   ]
  },
  {
   "cell_type": "code",
   "execution_count": null,
   "metadata": {},
   "outputs": [],
   "source": []
  },
  {
   "cell_type": "code",
   "execution_count": null,
   "metadata": {},
   "outputs": [],
   "source": []
  },
  {
   "cell_type": "code",
   "execution_count": null,
   "metadata": {},
   "outputs": [],
   "source": []
  },
  {
   "cell_type": "code",
   "execution_count": null,
   "metadata": {},
   "outputs": [],
   "source": []
  },
  {
   "cell_type": "code",
   "execution_count": null,
   "metadata": {},
   "outputs": [],
   "source": []
  },
  {
   "cell_type": "code",
   "execution_count": null,
   "metadata": {},
   "outputs": [],
   "source": []
  },
  {
   "cell_type": "code",
   "execution_count": null,
   "metadata": {},
   "outputs": [],
   "source": []
  }
 ],
 "metadata": {
  "kernelspec": {
   "display_name": "Python 3",
   "language": "python",
   "name": "python3"
  },
  "language_info": {
   "codemirror_mode": {
    "name": "ipython",
    "version": 3
   },
   "file_extension": ".py",
   "mimetype": "text/x-python",
   "name": "python",
   "nbconvert_exporter": "python",
   "pygments_lexer": "ipython3",
   "version": "3.8.5"
  }
 },
 "nbformat": 4,
 "nbformat_minor": 4
}
